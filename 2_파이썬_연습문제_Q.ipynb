{
  "nbformat": 4,
  "nbformat_minor": 0,
  "metadata": {
    "colab": {
      "provenance": [],
      "include_colab_link": true
    },
    "kernelspec": {
      "name": "python3",
      "display_name": "Python 3"
    },
    "language_info": {
      "name": "python"
    }
  },
  "cells": [
    {
      "cell_type": "markdown",
      "metadata": {
        "id": "view-in-github",
        "colab_type": "text"
      },
      "source": [
        "<a href=\"https://colab.research.google.com/github/upjun11/r/blob/main/2_%ED%8C%8C%EC%9D%B4%EC%8D%AC_%EC%97%B0%EC%8A%B5%EB%AC%B8%EC%A0%9C_Q.ipynb\" target=\"_parent\"><img src=\"https://colab.research.google.com/assets/colab-badge.svg\" alt=\"Open In Colab\"/></a>"
      ]
    },
    {
      "cell_type": "markdown",
      "source": [
        "### Q1\n",
        "- 영어단어를 입력받아 아래와 같은 결과가 나오도록 출력하세요.\n",
        "- 영어단어입력 :hello\n",
        "\n",
        "                                  +---------+\n",
        "                                  |         |\n",
        "                                  |  hello  |\n",
        "                                  |         |\n",
        "                                  +---------+"
      ],
      "metadata": {
        "id": "cMmf1iB74k0Z"
      }
    },
    {
      "cell_type": "code",
      "source": [
        "a= input()\n",
        "b= len(a)\n",
        "b\n",
        "print(\"+\"+\"-\"*(2*b)+\"+\")\n",
        "print(\"|\"+\" \"*(2*b)+\"|\")\n",
        "print(\"|  \"+a+\"   |\")\n",
        "print(\"|\"+\" \"*(2*b)+\"|\")\n",
        "print(\"+\"+\"-\"*(2*b)+\"+\")\n"
      ],
      "metadata": {
        "colab": {
          "base_uri": "https://localhost:8080/"
        },
        "id": "5hj3ttGT2Rn2",
        "outputId": "d4239c91-a20d-4fc0-ac5e-aaae5f4770e1"
      },
      "execution_count": null,
      "outputs": [
        {
          "output_type": "stream",
          "name": "stdout",
          "text": [
            "hello\n",
            "+----------+\n",
            "|          |\n",
            "|  hello   |\n",
            "|          |\n",
            "+----------+\n"
          ]
        }
      ]
    },
    {
      "cell_type": "markdown",
      "source": [
        "### Q2\n",
        "- 아래와 같이 사용자ID와 패스워드를 입력받아, 패스워드가 맞으면 로그인완료, 패스워드가 틀리면 로그인 실패라고 출력하세요.\n",
        "- 사용자정보 <br>\n",
        "    -     'albert','1234'  <br>\n",
        "    -     'dilbert','1234' <br>\n",
        "    -     'smith','1234' <br>\n",
        "    -     'jones','1234' <br>\n",
        "\n",
        "- 예시 <br>\n",
        "ID: albert <br>\n",
        "Password: 1234 <br>\n",
        "로그인 완료 <br>"
      ],
      "metadata": {
        "id": "lMxGMbxi53Th"
      }
    },
    {
      "cell_type": "code",
      "source": [
        "a=input()\n",
        "print('ID:{}'.format(a))\n",
        "b=\"1234\"\n",
        "c=input()\n",
        "if (c==b):\n",
        "  print(\"Password:\".format(c))\n",
        "  print(\"로그인 완료\")\n",
        "else:\n",
        "  print(\"로그인 실패\")"
      ],
      "metadata": {
        "colab": {
          "base_uri": "https://localhost:8080/"
        },
        "id": "5XCOPlx45716",
        "outputId": "80c43938-3f26-4947-f4db-18abdc77f859"
      },
      "execution_count": 2,
      "outputs": [
        {
          "output_type": "stream",
          "name": "stdout",
          "text": [
            "albert\n",
            "ID:albert\n",
            "1234\n",
            "Password:\n",
            "로그인 완료\n"
          ]
        }
      ]
    },
    {
      "cell_type": "markdown",
      "source": [
        "### Q3\n",
        "- 아래 데이터를 이용하여 변수를 만들고, 적당한 자료구조를 만들어 아래와 같은 결과가 출력되도록 코드를 작성하세요.\n",
        "\n",
        "- 고객데이터\n",
        "      'kim':{\n",
        "            'phone':'1234',\n",
        "            'addr':'seoul'\n",
        "            },\n",
        "      'lee':{\n",
        "            'phone':'5678',\n",
        "            'addr':'pusan'\n",
        "            },\n",
        "      'park':{\n",
        "            'phone':'9090',\n",
        "            'addr':'guro'\n",
        "            },\n",
        "\n",
        "-  예시\n",
        "-\n",
        "이름: kim <br>\n",
        "전화번호 (p) or 주소 (a)? p   <br>\n",
        "kim의 phone number는 1234 입니다.  <br>"
      ],
      "metadata": {
        "id": "Up4MLlWm1Ah-"
      }
    },
    {
      "cell_type": "code",
      "execution_count": null,
      "metadata": {
        "id": "mCLzKTXF0cPK"
      },
      "outputs": [],
      "source": []
    },
    {
      "cell_type": "markdown",
      "source": [
        "### Q4\n",
        "- 숫자를 입력받아 영어로 날짜, 연도, 월 정보를 출력하세요.\n",
        "- 사용할데이터   \n",
        "  -'January',\n",
        "    'Faburary',\n",
        "    'March',\n",
        "    'April',\n",
        "    'May',\n",
        "    'June',\n",
        "    'Jully',\n",
        "    'August',\n",
        "    'September',\n",
        "    'October',\n",
        "    'November',\n",
        "    'December'\n",
        "\n",
        "- 예시)\n",
        "- 연도: 2023 <br>\n",
        " 월(1-12): 9 <br>\n",
        " 날짜 (1-31): 13 <br>\n",
        " September 13th, 2023 <br>\n",
        "\n",
        "\n",
        " - 참고\n",
        "![image.png](data:image/png;base64,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)\n"
      ],
      "metadata": {
        "id": "fILT3q6b2NDh"
      }
    },
    {
      "cell_type": "code",
      "source": [
        "year = int(input(\"연도:\"))\n",
        "month = int(input(\"월(1-12):\"))\n",
        "day = int(input(\"날짜 (1-31):\"))\n",
        "# code here\n",
        "if month == 1:\n",
        "  print(f'January {day}th, {year}')\n",
        "elif month == 2:\n",
        "  print(f'Faburary {day}th, {year}')\n",
        "elif month == 3:\n",
        "  print(f'March {day}th, {year}')\n",
        "elif month == 4:\n",
        "  print(f'April {day}th, {year}')\n",
        "elif month == 5:\n",
        "  print(f'May {day}th, {year}')\n",
        "elif month == 6:\n",
        "  print(f'June {day}th, {year}')\n",
        "elif month == 7:\n",
        "  print(f'Jully {day}th, {year}')\n",
        "elif month == 8:\n",
        "  print(f'August {day}th, {year}')\n",
        "elif month == 9:\n",
        "  print(f'September {day}th, {year}')\n",
        "elif month == 10:\n",
        "  print(f'October {day}th, {year}')\n",
        "elif month == 11:\n",
        "  print(f'November {day}th, {year}')\n",
        "elif month == 12:\n",
        "  print(f'December {day}th, {year}')"
      ],
      "metadata": {
        "colab": {
          "base_uri": "https://localhost:8080/"
        },
        "id": "Fw-AG2QN0jVQ",
        "outputId": "882faafe-cecd-4116-cbeb-8e44b1f8c586"
      },
      "execution_count": 3,
      "outputs": [
        {
          "output_type": "stream",
          "name": "stdout",
          "text": [
            "연도:2023\n",
            "월(1-12):11\n",
            "날짜 (1-31):26\n",
            "November 26th, 2023\n"
          ]
        }
      ]
    },
    {
      "cell_type": "code",
      "source": [],
      "metadata": {
        "id": "ripk587N4-k1"
      },
      "execution_count": null,
      "outputs": []
    }
  ]
}