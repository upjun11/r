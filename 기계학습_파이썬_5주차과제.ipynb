{
  "nbformat": 4,
  "nbformat_minor": 0,
  "metadata": {
    "colab": {
      "provenance": [],
      "authorship_tag": "ABX9TyM/quzkHC2fylToA0RBzxG5",
      "include_colab_link": true
    },
    "kernelspec": {
      "name": "python3",
      "display_name": "Python 3"
    },
    "language_info": {
      "name": "python"
    }
  },
  "cells": [
    {
      "cell_type": "markdown",
      "metadata": {
        "id": "view-in-github",
        "colab_type": "text"
      },
      "source": [
        "<a href=\"https://colab.research.google.com/github/upjun11/r/blob/main/%EA%B8%B0%EA%B3%84%ED%95%99%EC%8A%B5_%ED%8C%8C%EC%9D%B4%EC%8D%AC_5%EC%A3%BC%EC%B0%A8%EA%B3%BC%EC%A0%9C.ipynb\" target=\"_parent\"><img src=\"https://colab.research.google.com/assets/colab-badge.svg\" alt=\"Open In Colab\"/></a>"
      ]
    },
    {
      "cell_type": "code",
      "source": [
        "import tensorflow as tf\n",
        "import numpy as np\n",
        "import matplotlib.pyplot as pilt\n",
        "\n"
      ],
      "metadata": {
        "id": "fMV4bGStf54h"
      },
      "execution_count": null,
      "outputs": []
    },
    {
      "cell_type": "markdown",
      "source": [
        "* 스칼라 정의하기"
      ],
      "metadata": {
        "id": "rJdknE5ggYHs"
      }
    },
    {
      "cell_type": "code",
      "source": [
        "a=1\n",
        "b=2\n",
        "c=tf.math.add(a,b)\n",
        "c"
      ],
      "metadata": {
        "colab": {
          "base_uri": "https://localhost:8080/"
        },
        "id": "5xjGvHiygXCl",
        "outputId": "151599ae-8f4e-404f-f268-5e33a79abc22"
      },
      "execution_count": null,
      "outputs": [
        {
          "output_type": "execute_result",
          "data": {
            "text/plain": [
              "<tf.Tensor: shape=(), dtype=int32, numpy=3>"
            ]
          },
          "metadata": {},
          "execution_count": 2
        }
      ]
    },
    {
      "cell_type": "code",
      "source": [
        "c.numpy"
      ],
      "metadata": {
        "colab": {
          "base_uri": "https://localhost:8080/"
        },
        "id": "dBPTeWdXiA4K",
        "outputId": "1ac2a235-c657-48e7-b8cf-405dbb8dc145"
      },
      "execution_count": null,
      "outputs": [
        {
          "output_type": "execute_result",
          "data": {
            "text/plain": [
              "<bound method _EagerTensorBase.numpy of <tf.Tensor: shape=(), dtype=int32, numpy=3>>"
            ]
          },
          "metadata": {},
          "execution_count": 3
        }
      ]
    },
    {
      "cell_type": "code",
      "source": [
        "c1=tf.constant(1)\n",
        "c2=tf.constant(2)\n",
        "print(c1,c2)"
      ],
      "metadata": {
        "colab": {
          "base_uri": "https://localhost:8080/"
        },
        "id": "YNBTRdK7iDIB",
        "outputId": "7ef3285c-36d1-4ce4-84b9-9166fd306d97"
      },
      "execution_count": null,
      "outputs": [
        {
          "output_type": "stream",
          "name": "stdout",
          "text": [
            "tf.Tensor(1, shape=(), dtype=int32) tf.Tensor(2, shape=(), dtype=int32)\n"
          ]
        }
      ]
    },
    {
      "cell_type": "code",
      "source": [
        "f1=tf.cast(c1,tf.float32)\n",
        "f2=tf.cast(c2,tf.float32)\n",
        "print(c1,c2)"
      ],
      "metadata": {
        "colab": {
          "base_uri": "https://localhost:8080/"
        },
        "id": "3WVfwL23is55",
        "outputId": "77afe170-0bb2-435d-bd05-fa317fe317f6"
      },
      "execution_count": null,
      "outputs": [
        {
          "output_type": "stream",
          "name": "stdout",
          "text": [
            "tf.Tensor(1, shape=(), dtype=int32) tf.Tensor(2, shape=(), dtype=int32)\n"
          ]
        }
      ]
    },
    {
      "cell_type": "code",
      "source": [
        "##덧셈\n",
        "add=tf.math.add(c1,c2)\n",
        "add.numpy()\n",
        "#.numpy() 붙이면 숫자값만 출력"
      ],
      "metadata": {
        "colab": {
          "base_uri": "https://localhost:8080/"
        },
        "id": "qxGE-c4gjVBB",
        "outputId": "8ef15374-86a3-4aea-d565-ba6a213be316"
      },
      "execution_count": null,
      "outputs": [
        {
          "output_type": "execute_result",
          "data": {
            "text/plain": [
              "3"
            ]
          },
          "metadata": {},
          "execution_count": 11
        }
      ]
    },
    {
      "cell_type": "code",
      "source": [
        "##뺄셈\n",
        "sub=tf.math.subtract(c1,c2)\n",
        "sub.numpy()"
      ],
      "metadata": {
        "colab": {
          "base_uri": "https://localhost:8080/"
        },
        "id": "aeFQb_UDjlcQ",
        "outputId": "09e51582-fd24-416f-ba6c-4e0629965cd4"
      },
      "execution_count": null,
      "outputs": [
        {
          "output_type": "execute_result",
          "data": {
            "text/plain": [
              "-1"
            ]
          },
          "metadata": {},
          "execution_count": 12
        }
      ]
    },
    {
      "cell_type": "code",
      "source": [
        "##곱셈\n",
        "mult=tf.math.multiply(c1,c2)\n",
        "mult.numpy()"
      ],
      "metadata": {
        "colab": {
          "base_uri": "https://localhost:8080/"
        },
        "id": "jproRW8Ujy5R",
        "outputId": "f3309913-58f7-45d0-bef7-205df79ee6d0"
      },
      "execution_count": null,
      "outputs": [
        {
          "output_type": "execute_result",
          "data": {
            "text/plain": [
              "2"
            ]
          },
          "metadata": {},
          "execution_count": 13
        }
      ]
    },
    {
      "cell_type": "markdown",
      "source": [
        "*vector\n"
      ],
      "metadata": {
        "id": "YpIgC0eej_gA"
      }
    },
    {
      "cell_type": "code",
      "source": [
        "py_list=[10,20,30]\n",
        "ten_list = tf.constant(py_list,dtype=tf.int32)\n",
        "ten_list"
      ],
      "metadata": {
        "colab": {
          "base_uri": "https://localhost:8080/"
        },
        "id": "t5Nd_z_hj-14",
        "outputId": "1ac16e69-9f30-4b93-fdb9-b88e777f446f"
      },
      "execution_count": null,
      "outputs": [
        {
          "output_type": "execute_result",
          "data": {
            "text/plain": [
              "<tf.Tensor: shape=(3,), dtype=int32, numpy=array([10, 20, 30], dtype=int32)>"
            ]
          },
          "metadata": {},
          "execution_count": 16
        }
      ]
    },
    {
      "cell_type": "code",
      "source": [],
      "metadata": {
        "id": "q-ZMj96ElAQI"
      },
      "execution_count": null,
      "outputs": []
    },
    {
      "cell_type": "markdown",
      "source": [
        "*행렬정의하기\n",
        "1.   tf.stack([],[].[]) : 1차 배열위아래쌓기\n",
        "2. \n",
        "\n"
      ],
      "metadata": {
        "id": "Tu33Mb0OlEW6"
      }
    },
    {
      "cell_type": "code",
      "source": [
        "l_a = [1,0]\n",
        "l_b = [-1.2]\n",
        "l_c = [1,0]"
      ],
      "metadata": {
        "id": "_bhy6bIOlWt7"
      },
      "execution_count": null,
      "outputs": []
    },
    {
      "cell_type": "code",
      "source": [
        "l_a = tf.constant(l_a)\n",
        "l_b = tf.constant(l_b)\n",
        "l_c = tf.constant(l_c)\n",
        "A = tf.stack([l_a,l_b,l_c])\n",
        "A"
      ],
      "metadata": {
        "id": "4g4Q-SUAlprz"
      },
      "execution_count": null,
      "outputs": []
    },
    {
      "cell_type": "code",
      "source": [
        "l_B = [[10,20],[30,40]]\n",
        "l_C = [[10,20], [20,40]]"
      ],
      "metadata": {
        "id": "s00gukAimPjH"
      },
      "execution_count": null,
      "outputs": []
    },
    {
      "cell_type": "code",
      "source": [
        "B = tf.constant(l_B)\n",
        "C = tf.constant(l_C)\n",
        "B,C"
      ],
      "metadata": {
        "colab": {
          "base_uri": "https://localhost:8080/"
        },
        "id": "fRL9jhGSmeun",
        "outputId": "650af5fd-10b3-454d-a834-87100ad782e5"
      },
      "execution_count": null,
      "outputs": [
        {
          "output_type": "execute_result",
          "data": {
            "text/plain": [
              "(<tf.Tensor: shape=(2, 2), dtype=int32, numpy=\n",
              " array([[10, 20],\n",
              "        [30, 40]], dtype=int32)>,\n",
              " <tf.Tensor: shape=(2, 2), dtype=int32, numpy=\n",
              " array([[10, 20],\n",
              "        [20, 40]], dtype=int32)>)"
            ]
          },
          "metadata": {},
          "execution_count": 23
        }
      ]
    },
    {
      "cell_type": "markdown",
      "source": [
        "# 고차원텐서\n",
        "* 1차원배열 1Xm,n개 정의 2차원배열 nXm 정의\n",
        "* tf.constant([1],[2],,,[1]): 텐서변환\n",
        "* tf.stack([1],[2],,,[1])\n",
        "* shape(l,n,m)"
      ],
      "metadata": {
        "id": "tqsS1GYQrAJf"
      }
    },
    {
      "cell_type": "code",
      "source": [
        "##1차원 배열로 3x2x4 정의하기\n",
        "l_c1 = [1,2,3,4]\n",
        "l_c2 = [3,4,2,5]\n",
        "l_c3 = [2,3,4,5]\n",
        "l_c4 = [6,5,7,3]\n",
        "l_c5 = [1,1,1,1,]\n",
        "l_c6 = [8,1,0,6]"
      ],
      "metadata": {
        "id": "kG5MVITMnDl_"
      },
      "execution_count": null,
      "outputs": []
    },
    {
      "cell_type": "code",
      "source": [
        "c1=tf.constant(l_c1)\n",
        "c2=tf.constant(l_c2)\n",
        "c3=tf.constant(l_c3)\n",
        "c4=tf.constant(l_c4)\n",
        "c5=tf.constant(l_c5)\n",
        "c6=tf.constant(l_c6)"
      ],
      "metadata": {
        "id": "HPSqKCPdsI_F"
      },
      "execution_count": null,
      "outputs": []
    },
    {
      "cell_type": "code",
      "source": [
        "X=tf.stack([c1,c2,c3,c4,c5,c6])\n",
        "X"
      ],
      "metadata": {
        "colab": {
          "base_uri": "https://localhost:8080/"
        },
        "id": "BEBszde_snX6",
        "outputId": "1ea18c00-3a98-47a6-b429-c935dbca01df"
      },
      "execution_count": null,
      "outputs": [
        {
          "output_type": "execute_result",
          "data": {
            "text/plain": [
              "<tf.Tensor: shape=(6, 4), dtype=int32, numpy=\n",
              "array([[1, 2, 3, 4],\n",
              "       [3, 4, 2, 5],\n",
              "       [2, 3, 4, 5],\n",
              "       [6, 5, 7, 3],\n",
              "       [1, 1, 1, 1],\n",
              "       [8, 1, 0, 6]], dtype=int32)>"
            ]
          },
          "metadata": {},
          "execution_count": 45
        }
      ]
    },
    {
      "cell_type": "code",
      "source": [
        "V=tf.stack([c3,c5])\n",
        "V"
      ],
      "metadata": {
        "colab": {
          "base_uri": "https://localhost:8080/"
        },
        "id": "hYufgF-7s9S7",
        "outputId": "db8b8a6a-d5bd-4904-cfd5-ba8fc332c051"
      },
      "execution_count": null,
      "outputs": [
        {
          "output_type": "execute_result",
          "data": {
            "text/plain": [
              "<tf.Tensor: shape=(2, 4), dtype=int32, numpy=\n",
              "array([[2, 3, 4, 5],\n",
              "       [1, 1, 1, 1]], dtype=int32)>"
            ]
          },
          "metadata": {},
          "execution_count": 46
        }
      ]
    },
    {
      "cell_type": "markdown",
      "source": [
        "* 인덱싱"
      ],
      "metadata": {
        "id": "CdpL1X2RtkDX"
      }
    },
    {
      "cell_type": "code",
      "source": [
        "x=range(1,10)\n",
        "x=list(x)\n",
        "x1=tf.constant(x)"
      ],
      "metadata": {
        "id": "-3vosI5_tfFr"
      },
      "execution_count": null,
      "outputs": []
    },
    {
      "cell_type": "code",
      "source": [
        "x1"
      ],
      "metadata": {
        "colab": {
          "base_uri": "https://localhost:8080/"
        },
        "id": "Z297T7CRt-Zq",
        "outputId": "cfe8451f-520d-49a3-f6ce-5c4eff3b1680"
      },
      "execution_count": null,
      "outputs": [
        {
          "output_type": "execute_result",
          "data": {
            "text/plain": [
              "<tf.Tensor: shape=(9,), dtype=int32, numpy=array([1, 2, 3, 4, 5, 6, 7, 8, 9], dtype=int32)>"
            ]
          },
          "metadata": {},
          "execution_count": 51
        }
      ]
    },
    {
      "cell_type": "code",
      "source": [
        "x1[2:4]"
      ],
      "metadata": {
        "colab": {
          "base_uri": "https://localhost:8080/"
        },
        "id": "1HTvcNvbuIBE",
        "outputId": "61e50725-0886-464d-c1da-811625138b7d"
      },
      "execution_count": null,
      "outputs": [
        {
          "output_type": "execute_result",
          "data": {
            "text/plain": [
              "<tf.Tensor: shape=(2,), dtype=int32, numpy=array([3, 4], dtype=int32)>"
            ]
          },
          "metadata": {},
          "execution_count": 52
        }
      ]
    },
    {
      "cell_type": "code",
      "source": [
        "##3x3 행렬인경우\n",
        "x2=tf.reshape(x1,[3,-1])\n",
        "x2"
      ],
      "metadata": {
        "colab": {
          "base_uri": "https://localhost:8080/"
        },
        "id": "meJHyrowuKAz",
        "outputId": "16116f65-ce33-4375-9f3b-fd67997bc069"
      },
      "execution_count": null,
      "outputs": [
        {
          "output_type": "execute_result",
          "data": {
            "text/plain": [
              "<tf.Tensor: shape=(3, 3), dtype=int32, numpy=\n",
              "array([[1, 2, 3],\n",
              "       [4, 5, 6],\n",
              "       [7, 8, 9]], dtype=int32)>"
            ]
          },
          "metadata": {},
          "execution_count": 53
        }
      ]
    },
    {
      "cell_type": "code",
      "source": [
        "##1행출력\n",
        "x2[:1]"
      ],
      "metadata": {
        "colab": {
          "base_uri": "https://localhost:8080/"
        },
        "id": "x14_H0-muYIK",
        "outputId": "eb0c5740-ef47-4848-982b-9a83c0c87de9"
      },
      "execution_count": null,
      "outputs": [
        {
          "output_type": "execute_result",
          "data": {
            "text/plain": [
              "<tf.Tensor: shape=(1, 3), dtype=int32, numpy=array([[1, 2, 3]], dtype=int32)>"
            ]
          },
          "metadata": {},
          "execution_count": 54
        }
      ]
    },
    {
      "cell_type": "code",
      "source": [
        "##2행출력\n",
        "x2[:2]"
      ],
      "metadata": {
        "colab": {
          "base_uri": "https://localhost:8080/"
        },
        "id": "wsdG9wHcuer5",
        "outputId": "35e984b2-319b-49cc-8b92-ccb2747fa224"
      },
      "execution_count": null,
      "outputs": [
        {
          "output_type": "execute_result",
          "data": {
            "text/plain": [
              "<tf.Tensor: shape=(2, 3), dtype=int32, numpy=\n",
              "array([[1, 2, 3],\n",
              "       [4, 5, 6]], dtype=int32)>"
            ]
          },
          "metadata": {},
          "execution_count": 55
        }
      ]
    },
    {
      "cell_type": "code",
      "source": [
        "##1열\n",
        "x2[:,:1]"
      ],
      "metadata": {
        "colab": {
          "base_uri": "https://localhost:8080/"
        },
        "id": "YLQ6g_Douem4",
        "outputId": "11aaf5e9-e2f4-48f8-c950-0988895bbd9c"
      },
      "execution_count": null,
      "outputs": [
        {
          "output_type": "execute_result",
          "data": {
            "text/plain": [
              "<tf.Tensor: shape=(3, 1), dtype=int32, numpy=\n",
              "array([[1],\n",
              "       [4],\n",
              "       [7]], dtype=int32)>"
            ]
          },
          "metadata": {},
          "execution_count": 62
        }
      ]
    },
    {
      "cell_type": "code",
      "source": [
        "##2열\n",
        "x2[:,:2]"
      ],
      "metadata": {
        "colab": {
          "base_uri": "https://localhost:8080/"
        },
        "id": "ba0O8f5Wu1lZ",
        "outputId": "fe8f58d6-b70a-4eae-eb86-6553eb646d35"
      },
      "execution_count": null,
      "outputs": [
        {
          "output_type": "execute_result",
          "data": {
            "text/plain": [
              "<tf.Tensor: shape=(3, 2), dtype=int32, numpy=\n",
              "array([[1, 2],\n",
              "       [4, 5],\n",
              "       [7, 8]], dtype=int32)>"
            ]
          },
          "metadata": {},
          "execution_count": 60
        }
      ]
    },
    {
      "cell_type": "markdown",
      "source": [
        "*형태변환"
      ],
      "metadata": {
        "id": "n8D_zdFjwDyb"
      }
    },
    {
      "cell_type": "code",
      "source": [
        "t7=tf.constant(range(0,24))\n",
        "t7"
      ],
      "metadata": {
        "colab": {
          "base_uri": "https://localhost:8080/"
        },
        "id": "uqWkjSIpu-ez",
        "outputId": "e8f5ae21-6e47-4510-8db2-a99f38f112a3"
      },
      "execution_count": null,
      "outputs": [
        {
          "output_type": "execute_result",
          "data": {
            "text/plain": [
              "<tf.Tensor: shape=(24,), dtype=int32, numpy=\n",
              "array([ 0,  1,  2,  3,  4,  5,  6,  7,  8,  9, 10, 11, 12, 13, 14, 15, 16,\n",
              "       17, 18, 19, 20, 21, 22, 23], dtype=int32)>"
            ]
          },
          "metadata": {},
          "execution_count": 63
        }
      ]
    },
    {
      "cell_type": "code",
      "source": [
        "r_t7=tf.reshape(t7, [3,8])\n",
        "r_t7"
      ],
      "metadata": {
        "colab": {
          "base_uri": "https://localhost:8080/"
        },
        "id": "tJHfyiRRwSWB",
        "outputId": "bcf27547-bb8c-490b-eb2b-d3de1b052c6d"
      },
      "execution_count": null,
      "outputs": [
        {
          "output_type": "execute_result",
          "data": {
            "text/plain": [
              "<tf.Tensor: shape=(3, 8), dtype=int32, numpy=\n",
              "array([[ 0,  1,  2,  3,  4,  5,  6,  7],\n",
              "       [ 8,  9, 10, 11, 12, 13, 14, 15],\n",
              "       [16, 17, 18, 19, 20, 21, 22, 23]], dtype=int32)>"
            ]
          },
          "metadata": {},
          "execution_count": 65
        }
      ]
    },
    {
      "cell_type": "code",
      "source": [
        "r2_t7=tf.reshape(t7, [-1,4])\n",
        "r2_t7"
      ],
      "metadata": {
        "colab": {
          "base_uri": "https://localhost:8080/"
        },
        "id": "6h56PCcMwpNr",
        "outputId": "59e18727-7f04-4cbc-ea79-c3a6f5101e73"
      },
      "execution_count": null,
      "outputs": [
        {
          "output_type": "execute_result",
          "data": {
            "text/plain": [
              "<tf.Tensor: shape=(6, 4), dtype=int32, numpy=\n",
              "array([[ 0,  1,  2,  3],\n",
              "       [ 4,  5,  6,  7],\n",
              "       [ 8,  9, 10, 11],\n",
              "       [12, 13, 14, 15],\n",
              "       [16, 17, 18, 19],\n",
              "       [20, 21, 22, 23]], dtype=int32)>"
            ]
          },
          "metadata": {},
          "execution_count": 66
        }
      ]
    },
    {
      "cell_type": "code",
      "source": [
        "r3_t7=tf.reshape(r2_t7, [-1])\n",
        "r3_t7"
      ],
      "metadata": {
        "colab": {
          "base_uri": "https://localhost:8080/"
        },
        "id": "C-x94OI1w0l1",
        "outputId": "6b529124-e726-40bd-d304-97099f99e4af"
      },
      "execution_count": null,
      "outputs": [
        {
          "output_type": "execute_result",
          "data": {
            "text/plain": [
              "<tf.Tensor: shape=(24,), dtype=int32, numpy=\n",
              "array([ 0,  1,  2,  3,  4,  5,  6,  7,  8,  9, 10, 11, 12, 13, 14, 15, 16,\n",
              "       17, 18, 19, 20, 21, 22, 23], dtype=int32)>"
            ]
          },
          "metadata": {},
          "execution_count": 67
        }
      ]
    },
    {
      "cell_type": "code",
      "source": [
        "r4_t7=tf.reshape(r2_t7,[-1,3,4])\n",
        "r4_t7"
      ],
      "metadata": {
        "colab": {
          "base_uri": "https://localhost:8080/"
        },
        "id": "Er8P8-dCxHn4",
        "outputId": "c53c2c48-0cd1-444e-b31a-09d05a3c41fd"
      },
      "execution_count": null,
      "outputs": [
        {
          "output_type": "execute_result",
          "data": {
            "text/plain": [
              "<tf.Tensor: shape=(2, 3, 4), dtype=int32, numpy=\n",
              "array([[[ 0,  1,  2,  3],\n",
              "        [ 4,  5,  6,  7],\n",
              "        [ 8,  9, 10, 11]],\n",
              "\n",
              "       [[12, 13, 14, 15],\n",
              "        [16, 17, 18, 19],\n",
              "        [20, 21, 22, 23]]], dtype=int32)>"
            ]
          },
          "metadata": {},
          "execution_count": 69
        }
      ]
    },
    {
      "cell_type": "code",
      "source": [
        "r5_t7 =tf.reshape(r2_t7, [-1,2,4])\n",
        "r5_t7"
      ],
      "metadata": {
        "colab": {
          "base_uri": "https://localhost:8080/"
        },
        "id": "aJ_Jb2UQxTw3",
        "outputId": "72fd5e79-2b93-44a7-e7ae-e4b37b682415"
      },
      "execution_count": null,
      "outputs": [
        {
          "output_type": "execute_result",
          "data": {
            "text/plain": [
              "<tf.Tensor: shape=(3, 2, 4), dtype=int32, numpy=\n",
              "array([[[ 0,  1,  2,  3],\n",
              "        [ 4,  5,  6,  7]],\n",
              "\n",
              "       [[ 8,  9, 10, 11],\n",
              "        [12, 13, 14, 15]],\n",
              "\n",
              "       [[16, 17, 18, 19],\n",
              "        [20, 21, 22, 23]]], dtype=int32)>"
            ]
          },
          "metadata": {},
          "execution_count": 70
        }
      ]
    },
    {
      "cell_type": "code",
      "source": [
        "r6_t7 =tf.reshape(r2_t7, [-1,2,2,2])\n",
        "r6_t7"
      ],
      "metadata": {
        "colab": {
          "base_uri": "https://localhost:8080/"
        },
        "id": "cqUWo9qkxgE5",
        "outputId": "2445bad7-dd76-439b-f694-befc20b0ca95"
      },
      "execution_count": null,
      "outputs": [
        {
          "output_type": "execute_result",
          "data": {
            "text/plain": [
              "<tf.Tensor: shape=(3, 2, 2, 2), dtype=int32, numpy=\n",
              "array([[[[ 0,  1],\n",
              "         [ 2,  3]],\n",
              "\n",
              "        [[ 4,  5],\n",
              "         [ 6,  7]]],\n",
              "\n",
              "\n",
              "       [[[ 8,  9],\n",
              "         [10, 11]],\n",
              "\n",
              "        [[12, 13],\n",
              "         [14, 15]]],\n",
              "\n",
              "\n",
              "       [[[16, 17],\n",
              "         [18, 19]],\n",
              "\n",
              "        [[20, 21],\n",
              "         [22, 23]]]], dtype=int32)>"
            ]
          },
          "metadata": {},
          "execution_count": 71
        }
      ]
    },
    {
      "cell_type": "code",
      "source": [
        "r7_t7 =tf.reshape(r2_t7, [-1,2,2,2])\n",
        "r7_t7"
      ],
      "metadata": {
        "colab": {
          "base_uri": "https://localhost:8080/"
        },
        "id": "iIYNbm5LxtP_",
        "outputId": "3609507c-c990-4666-b482-07969f266680"
      },
      "execution_count": null,
      "outputs": [
        {
          "output_type": "execute_result",
          "data": {
            "text/plain": [
              "<tf.Tensor: shape=(3, 2, 2, 2), dtype=int32, numpy=\n",
              "array([[[[ 0,  1],\n",
              "         [ 2,  3]],\n",
              "\n",
              "        [[ 4,  5],\n",
              "         [ 6,  7]]],\n",
              "\n",
              "\n",
              "       [[[ 8,  9],\n",
              "         [10, 11]],\n",
              "\n",
              "        [[12, 13],\n",
              "         [14, 15]]],\n",
              "\n",
              "\n",
              "       [[[16, 17],\n",
              "         [18, 19]],\n",
              "\n",
              "        [[20, 21],\n",
              "         [22, 23]]]], dtype=int32)>"
            ]
          },
          "metadata": {},
          "execution_count": 72
        }
      ]
    },
    {
      "cell_type": "markdown",
      "source": [
        "*자동미분"
      ],
      "metadata": {
        "id": "iFRDSOurxw6Y"
      }
    },
    {
      "cell_type": "code",
      "source": [
        "# y = x^2의 미분값 구하기\n",
        "x = tf.Variable(2.0)\n",
        "\n",
        "with tf.GradientTape() as tape:\n",
        "    y=x ** 2\n",
        "dy_dx = tape.gradient(y,x)\n",
        "dy_dx.numpy()\n",
        "     "
      ],
      "metadata": {
        "id": "RBcr2fTRxzRP"
      },
      "execution_count": null,
      "outputs": []
    },
    {
      "cell_type": "code",
      "source": [
        "##reduced_mean()\n",
        "m2 = tf.constant([[1.,1.],[2.,2.]])\n",
        "m2\n",
        "     "
      ],
      "metadata": {
        "id": "sb9X0N4v1QWW"
      },
      "execution_count": null,
      "outputs": []
    },
    {
      "cell_type": "code",
      "source": [
        "\n",
        "##loss함수 정의\n",
        "def cal_mse(x,y,a,b):\n",
        "    y_prde = a * x + b\n",
        "    squared_error = (y_prde - y) ** 2\n",
        "    mean_squared_error = tf.reduce_mean(squared_error)\n",
        "\n",
        "    return mean_squared_error"
      ],
      "metadata": {
        "id": "zLrZq9WA1j0N"
      },
      "execution_count": 4,
      "outputs": []
    },
    {
      "cell_type": "code",
      "source": [
        "a = tf.Variable(0.0)\n",
        "b = tf.Variable(0.0)\n",
        "\n",
        "EPOCHS = 1000\n",
        "\n",
        "for epoch in range(1, EPOCHS+1):\n",
        "    with tf.GradientTape() as tape:\n",
        "      mse = cal_mse(x,y,a,b)\n",
        "    if mse < 0.0000001:\n",
        "      break\n",
        "    grade = tape.gradient(mse, {'a':a, 'b':b})\n",
        "    d_a, d_b = grade['a'],grade['b']\n",
        "    a.assign_sub(d_a * 0.05) ## a = a - d_a * 0.05(학습률)\n",
        "    b.assign_sub(d_b * 0.05) ## b = b - d_b * 0.05(학습률)\n",
        "\n",
        "    if epoch % 20 == 0:\n",
        "      print(\"EPOCH %d - MSE : %.4f - a: %.2f - b : %2.2f\"%(epoch, mse, a,b))"
      ],
      "metadata": {
        "id": "WqfNyRUs1mUt"
      },
      "execution_count": null,
      "outputs": []
    },
    {
      "cell_type": "code",
      "source": [
        "y_pred = 2.05 * x -1.54\n",
        "plt.scatter(x,y)\n",
        "plt.plot(x,y_pred,color = 'r')\n",
        "plt.show()"
      ],
      "metadata": {
        "id": "vknaB9O52K2U"
      },
      "execution_count": null,
      "outputs": []
    },
    {
      "cell_type": "code",
      "source": [
        "g = tf.random.Generator.from_seed(2020)\n",
        "x1 = g.normal(shape=(10,))\n",
        "noise = np.random.normal(0,1,size = (10,))\n",
        "y= 3*x-2+noise\n",
        "     "
      ],
      "metadata": {
        "id": "g4F2KSO0z5cS"
      },
      "execution_count": null,
      "outputs": []
    },
    {
      "cell_type": "code",
      "source": [
        "y_pred = 1.93 * x1 -1.73\n",
        "plt.scatter(x1,y)\n",
        "plt.plot(x1,y_pred,color = 'r')\n",
        "plt.show()"
      ],
      "metadata": {
        "id": "Rs8Z1H3vz720"
      },
      "execution_count": null,
      "outputs": []
    }
  ]
}