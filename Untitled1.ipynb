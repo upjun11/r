{
  "nbformat": 4,
  "nbformat_minor": 0,
  "metadata": {
    "colab": {
      "provenance": [],
      "authorship_tag": "ABX9TyOeGiUFnrEwlO3nO8ttCo23",
      "include_colab_link": true
    },
    "kernelspec": {
      "name": "ir",
      "display_name": "R"
    },
    "language_info": {
      "name": "R"
    }
  },
  "cells": [
    {
      "cell_type": "markdown",
      "metadata": {
        "id": "view-in-github",
        "colab_type": "text"
      },
      "source": [
        "<a href=\"https://colab.research.google.com/github/upjun11/r/blob/main/Untitled1.ipynb\" target=\"_parent\"><img src=\"https://colab.research.google.com/assets/colab-badge.svg\" alt=\"Open In Colab\"/></a>"
      ]
    },
    {
      "cell_type": "code",
      "execution_count": null,
      "metadata": {
        "colab": {
          "base_uri": "https://localhost:8080/",
          "height": 412
        },
        "id": "OdTp2hSI2NMx",
        "outputId": "d91488f9-19ee-4948-848b-127a35c1ec1e"
      },
      "outputs": [
        {
          "output_type": "display_data",
          "data": {
            "text/html": [
              "<table class=\"dataframe\">\n",
              "<caption>A data.frame: 10 × 4</caption>\n",
              "<thead>\n",
              "\t<tr><th scope=col>ID</th><th scope=col>SEX</th><th scope=col>AGE</th><th scope=col>AREA</th></tr>\n",
              "\t<tr><th scope=col>&lt;dbl&gt;</th><th scope=col>&lt;chr&gt;</th><th scope=col>&lt;dbl&gt;</th><th scope=col>&lt;chr&gt;</th></tr>\n",
              "</thead>\n",
              "<tbody>\n",
              "\t<tr><td> 1</td><td>F</td><td>50</td><td>서울</td></tr>\n",
              "\t<tr><td> 2</td><td>M</td><td>40</td><td>경기</td></tr>\n",
              "\t<tr><td> 3</td><td>F</td><td>28</td><td>제주</td></tr>\n",
              "\t<tr><td> 4</td><td>M</td><td>50</td><td>서울</td></tr>\n",
              "\t<tr><td> 5</td><td>M</td><td>27</td><td>서울</td></tr>\n",
              "\t<tr><td> 6</td><td>F</td><td>23</td><td>서울</td></tr>\n",
              "\t<tr><td> 7</td><td>F</td><td>56</td><td>경기</td></tr>\n",
              "\t<tr><td> 8</td><td>F</td><td>47</td><td>서울</td></tr>\n",
              "\t<tr><td> 9</td><td>M</td><td>20</td><td>인천</td></tr>\n",
              "\t<tr><td>10</td><td>F</td><td>38</td><td>경기</td></tr>\n",
              "</tbody>\n",
              "</table>\n"
            ],
            "text/markdown": "\nA data.frame: 10 × 4\n\n| ID &lt;dbl&gt; | SEX &lt;chr&gt; | AGE &lt;dbl&gt; | AREA &lt;chr&gt; |\n|---|---|---|---|\n|  1 | F | 50 | 서울 |\n|  2 | M | 40 | 경기 |\n|  3 | F | 28 | 제주 |\n|  4 | M | 50 | 서울 |\n|  5 | M | 27 | 서울 |\n|  6 | F | 23 | 서울 |\n|  7 | F | 56 | 경기 |\n|  8 | F | 47 | 서울 |\n|  9 | M | 20 | 인천 |\n| 10 | F | 38 | 경기 |\n\n",
            "text/latex": "A data.frame: 10 × 4\n\\begin{tabular}{llll}\n ID & SEX & AGE & AREA\\\\\n <dbl> & <chr> & <dbl> & <chr>\\\\\n\\hline\n\t  1 & F & 50 & 서울\\\\\n\t  2 & M & 40 & 경기\\\\\n\t  3 & F & 28 & 제주\\\\\n\t  4 & M & 50 & 서울\\\\\n\t  5 & M & 27 & 서울\\\\\n\t  6 & F & 23 & 서울\\\\\n\t  7 & F & 56 & 경기\\\\\n\t  8 & F & 47 & 서울\\\\\n\t  9 & M & 20 & 인천\\\\\n\t 10 & F & 38 & 경기\\\\\n\\end{tabular}\n",
            "text/plain": [
              "   ID SEX AGE AREA\n",
              "1   1 F   50  서울\n",
              "2   2 M   40  경기\n",
              "3   3 F   28  제주\n",
              "4   4 M   50  서울\n",
              "5   5 M   27  서울\n",
              "6   6 F   23  서울\n",
              "7   7 F   56  경기\n",
              "8   8 F   47  서울\n",
              "9   9 M   20  인천\n",
              "10 10 F   38  경기"
            ]
          },
          "metadata": {}
        }
      ],
      "source": [
        "ID <-c(1, 2, 3, 4, 5, 6, 7, 8, 9, 10)\n",
        "SEX <-c(\"F\", \"M\", \"F\", \"M\", \"M\", \"F\", \"F\", \"F\", \"M\", \"F\")\n",
        "AGE <-c(50, 40, 28, 50, 27, 23, 56, 47, 20, 38)\n",
        "AREA <-c(\"서울\", \"경기\", \"제주\", \"서울\", \"서울\",\"서울\",  \"경기\", \"서울\", \"인천\", \"경기\")\n",
        "dataframe_ex <- data.frame(ID, SEX, AGE, AREA)\n",
        "dataframe_ex"
      ]
    },
    {
      "cell_type": "code",
      "source": [
        "frute<-c(\"apple\", \"banana\", \"banana\", \"apple\", \"apple\")\n",
        "frute<-factor(frute, labels = c(\"apple\", \"banana\", \"banana\", \"apple\", \"apple\")"
      ],
      "metadata": {
        "colab": {
          "base_uri": "https://localhost:8080/",
          "height": 156
        },
        "id": "9g-7SSXY2r-B",
        "outputId": "d27b3b38-3b70-4234-8efd-357ffd57643c"
      },
      "execution_count": null,
      "outputs": [
        {
          "output_type": "error",
          "ename": "ERROR",
          "evalue": "ignored",
          "traceback": [
            "Error in parse(text = x, srcfile = src): <text>:3:0: unexpected end of input\n1: frute<-c(\"apple\", \"banana\", \"banana\", \"apple\", \"apple\")\n2: frute<-factor(frute, labels = c(\"apple\", \"banana\", \"banana\", \"apple\", \"apple\")\n  ^\nTraceback:\n"
          ]
        }
      ]
    },
    {
      "cell_type": "markdown",
      "source": [
        "조건문 / 반복문"
      ],
      "metadata": {
        "id": "vuuR4dw19F_u"
      }
    },
    {
      "cell_type": "code",
      "source": [
        "x<- 1: 10\n",
        "y<- 10: 1"
      ],
      "metadata": {
        "id": "GS1BLSkn9L0e"
      },
      "execution_count": null,
      "outputs": []
    },
    {
      "cell_type": "code",
      "source": [
        "print(x)"
      ],
      "metadata": {
        "colab": {
          "base_uri": "https://localhost:8080/"
        },
        "id": "ZSpl_lY89bzH",
        "outputId": "d8743b39-b66a-4bfa-ab17-ed2b91aa51e5"
      },
      "execution_count": null,
      "outputs": [
        {
          "output_type": "stream",
          "name": "stdout",
          "text": [
            " [1]  1  2  3  4  5  6  7  8  9 10\n"
          ]
        }
      ]
    },
    {
      "cell_type": "code",
      "source": [
        "print(y)"
      ],
      "metadata": {
        "colab": {
          "base_uri": "https://localhost:8080/"
        },
        "id": "CEqWnrnK9jfX",
        "outputId": "ca6e9cc5-3faf-4eec-9036-4bb8677ad261"
      },
      "execution_count": null,
      "outputs": [
        {
          "output_type": "stream",
          "name": "stdout",
          "text": [
            " [1] 10  9  8  7  6  5  4  3  2  1\n"
          ]
        }
      ]
    },
    {
      "cell_type": "code",
      "source": [
        "1y"
      ],
      "metadata": {
        "id": "t0bajgKZADLe"
      },
      "execution_count": null,
      "outputs": []
    },
    {
      "cell_type": "code",
      "source": [
        "a<-10\n",
        "if(a %% 2== 0) {\n",
        "  print(\"짝수\")} else{\n",
        "    print(\"홀수\")\n",
        "    }"
      ],
      "metadata": {
        "colab": {
          "base_uri": "https://localhost:8080/"
        },
        "id": "HWMGL9FfAH8e",
        "outputId": "d13a750c-2328-449e-d8b1-f5e15e28a5a6"
      },
      "execution_count": null,
      "outputs": [
        {
          "output_type": "stream",
          "name": "stdout",
          "text": [
            "[1] \"짝수\"\n"
          ]
        }
      ]
    },
    {
      "cell_type": "markdown",
      "source": [
        "<3월 9일 과제> -김영준-"
      ],
      "metadata": {
        "id": "6yxm1byuNoIu"
      }
    },
    {
      "cell_type": "code",
      "source": [
        "##1번 세 수 중 가장 큰 수 출력\n",
        "a<-3\n",
        "b<-9\n",
        "c<-1\n",
        "if(a>=b){\n",
        "  if(a>=c){\n",
        "    print(a)\n",
        "  }else{print(c)}\n",
        "}else{\n",
        "  if(b>=c){\n",
        "    print(b)\n",
        "  }else{print(c)}\n",
        "}\n"
      ],
      "metadata": {
        "colab": {
          "base_uri": "https://localhost:8080/"
        },
        "id": "Mnz_aY66BA2W",
        "outputId": "5256d1e2-11b5-47b9-8eec-5ffe3fd68c02"
      },
      "execution_count": null,
      "outputs": [
        {
          "output_type": "stream",
          "name": "stdout",
          "text": [
            "[1] 9\n"
          ]
        }
      ]
    },
    {
      "cell_type": "code",
      "source": [],
      "metadata": {
        "id": "gNeoZK7-Nye1"
      },
      "execution_count": null,
      "outputs": []
    },
    {
      "cell_type": "markdown",
      "source": [
        "반복문"
      ],
      "metadata": {
        "id": "aWOM1mtOGfPF"
      }
    },
    {
      "cell_type": "code",
      "source": [
        "for(i in 1:10){\n",
        "  print(i)\n",
        "}"
      ],
      "metadata": {
        "colab": {
          "base_uri": "https://localhost:8080/"
        },
        "id": "AvEyiVG7GjN1",
        "outputId": "6a5a5393-010d-40c8-c887-6fb0c10e0c52"
      },
      "execution_count": null,
      "outputs": [
        {
          "output_type": "stream",
          "name": "stdout",
          "text": [
            "[1] 1\n",
            "[1] 2\n",
            "[1] 3\n",
            "[1] 4\n",
            "[1] 5\n",
            "[1] 6\n",
            "[1] 7\n",
            "[1] 8\n",
            "[1] 9\n",
            "[1] 10\n"
          ]
        }
      ]
    },
    {
      "cell_type": "code",
      "source": [
        "##4번 구구단 출력\n",
        "for(i in 1:9){\n",
        "  a<-2\n",
        "  result<-a*i\n",
        "  print(result)\n",
        "}"
      ],
      "metadata": {
        "colab": {
          "base_uri": "https://localhost:8080/"
        },
        "id": "GuJdSYBLGz-U",
        "outputId": "ac25ee72-4bd5-4c39-a70e-70925837cf53"
      },
      "execution_count": null,
      "outputs": [
        {
          "output_type": "stream",
          "name": "stdout",
          "text": [
            "[1] 2\n",
            "[1] 4\n",
            "[1] 6\n",
            "[1] 8\n",
            "[1] 10\n",
            "[1] 12\n",
            "[1] 14\n",
            "[1] 16\n",
            "[1] 18\n"
          ]
        }
      ]
    },
    {
      "cell_type": "code",
      "source": [
        "sum<-0\n",
        "for( i in 1:100){\n",
        "  sum <- sum +i\n",
        "  print(sum)\n",
        "}"
      ],
      "metadata": {
        "colab": {
          "base_uri": "https://localhost:8080/"
        },
        "id": "dR-i_kL7HhTc",
        "outputId": "5e2c4dc5-b3b8-478b-ee85-c0f15016fde7"
      },
      "execution_count": null,
      "outputs": [
        {
          "output_type": "stream",
          "name": "stdout",
          "text": [
            "[1] 1\n",
            "[1] 3\n",
            "[1] 6\n",
            "[1] 10\n",
            "[1] 15\n",
            "[1] 21\n",
            "[1] 28\n",
            "[1] 36\n",
            "[1] 45\n",
            "[1] 55\n",
            "[1] 66\n",
            "[1] 78\n",
            "[1] 91\n",
            "[1] 105\n",
            "[1] 120\n",
            "[1] 136\n",
            "[1] 153\n",
            "[1] 171\n",
            "[1] 190\n",
            "[1] 210\n",
            "[1] 231\n",
            "[1] 253\n",
            "[1] 276\n",
            "[1] 300\n",
            "[1] 325\n",
            "[1] 351\n",
            "[1] 378\n",
            "[1] 406\n",
            "[1] 435\n",
            "[1] 465\n",
            "[1] 496\n",
            "[1] 528\n",
            "[1] 561\n",
            "[1] 595\n",
            "[1] 630\n",
            "[1] 666\n",
            "[1] 703\n",
            "[1] 741\n",
            "[1] 780\n",
            "[1] 820\n",
            "[1] 861\n",
            "[1] 903\n",
            "[1] 946\n",
            "[1] 990\n",
            "[1] 1035\n",
            "[1] 1081\n",
            "[1] 1128\n",
            "[1] 1176\n",
            "[1] 1225\n",
            "[1] 1275\n",
            "[1] 1326\n",
            "[1] 1378\n",
            "[1] 1431\n",
            "[1] 1485\n",
            "[1] 1540\n",
            "[1] 1596\n",
            "[1] 1653\n",
            "[1] 1711\n",
            "[1] 1770\n",
            "[1] 1830\n",
            "[1] 1891\n",
            "[1] 1953\n",
            "[1] 2016\n",
            "[1] 2080\n",
            "[1] 2145\n",
            "[1] 2211\n",
            "[1] 2278\n",
            "[1] 2346\n",
            "[1] 2415\n",
            "[1] 2485\n",
            "[1] 2556\n",
            "[1] 2628\n",
            "[1] 2701\n",
            "[1] 2775\n",
            "[1] 2850\n",
            "[1] 2926\n",
            "[1] 3003\n",
            "[1] 3081\n",
            "[1] 3160\n",
            "[1] 3240\n",
            "[1] 3321\n",
            "[1] 3403\n",
            "[1] 3486\n",
            "[1] 3570\n",
            "[1] 3655\n",
            "[1] 3741\n",
            "[1] 3828\n",
            "[1] 3916\n",
            "[1] 4005\n",
            "[1] 4095\n",
            "[1] 4186\n",
            "[1] 4278\n",
            "[1] 4371\n",
            "[1] 4465\n",
            "[1] 4560\n",
            "[1] 4656\n",
            "[1] 4753\n",
            "[1] 4851\n",
            "[1] 4950\n",
            "[1] 5050\n"
          ]
        }
      ]
    }
  ]
}