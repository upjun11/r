{
  "cells": [
    {
      "cell_type": "markdown",
      "metadata": {
        "id": "view-in-github",
        "colab_type": "text"
      },
      "source": [
        "<a href=\"https://colab.research.google.com/github/upjun11/r/blob/main/%ED%8C%8C%EC%9D%B4%EC%8D%AC%EC%97%B0%EC%8A%B5%EB%AC%B8%EC%A0%9C_%EB%B0%98%EB%B3%B5%EB%AC%B8%EA%B9%8C%EC%A7%80_Q.ipynb\" target=\"_parent\"><img src=\"https://colab.research.google.com/assets/colab-badge.svg\" alt=\"Open In Colab\"/></a>"
      ]
    },
    {
      "cell_type": "markdown",
      "metadata": {
        "id": "Gdx2zQZ-d_OV"
      },
      "source": [
        "### 1번문제\n",
        "- 1. mylist = [[1,2,3,4,5]]에 77을 추가하여 mylist가 [[1,2,3,4,5,77]]이 되도록 구현해 보자\n",
        "  - append와 insert 2가지 방법을 활용해서 구현해 보자\n"
      ]
    },
    {
      "cell_type": "code",
      "execution_count": 13,
      "metadata": {
        "id": "Z_wBkg5cd_OV",
        "outputId": "a8028a21-dabb-4eab-9673-42cd267c87ae",
        "colab": {
          "base_uri": "https://localhost:8080/"
        }
      },
      "outputs": [
        {
          "output_type": "stream",
          "name": "stdout",
          "text": [
            "[[1, 2, 3, 4, 5, 77]]\n"
          ]
        }
      ],
      "source": [
        "mylist = [[1, 2, 3, 4, 5]]\n",
        "mylist[0].append(77)\n",
        "print(mylist)  # 출력: [[1, 2, 3, 4, 5, 77]]\n"
      ]
    },
    {
      "cell_type": "code",
      "execution_count": 14,
      "metadata": {
        "id": "Yaiwp8DBd_OW",
        "outputId": "c07de8df-b497-475b-fbda-e5a388714e8a",
        "colab": {
          "base_uri": "https://localhost:8080/"
        }
      },
      "outputs": [
        {
          "output_type": "stream",
          "name": "stdout",
          "text": [
            "[[1, 2, 3, 4, 5, 77]]\n"
          ]
        }
      ],
      "source": [
        "mylist = [[1, 2, 3, 4, 5]]\n",
        "mylist[0].insert(len(mylist[0]), 77)\n",
        "print(mylist)  # 출력: [[1, 2, 3, 4, 5, 77]]\n"
      ]
    },
    {
      "cell_type": "markdown",
      "metadata": {
        "id": "KXfUkYXQd_OW"
      },
      "source": [
        "## 2번문제\n",
        "- 2. 사전(Dict)를 이용하여 학생들의 이름과 점수를 입력하고 추가, 삭제, 업데이트 작업을 진행해 보자\n",
        "  - score라는 dict에 철수 95점, 영희 88점, 길동 92점을 입력하자\n",
        "  - score에서 수지 98점을 추가하자\n",
        "  - score에서 길동 92점을 삭제하자\n",
        "  - score에 민영 85점, 두리 55점, 남일 69점을 한번에 추가에 보자\n"
      ]
    },
    {
      "cell_type": "code",
      "execution_count": 1,
      "metadata": {
        "id": "ZnTQRS10d_OX"
      },
      "outputs": [],
      "source": [
        "score = {'철수': 95, '영희': 88, '길동': 92}"
      ]
    },
    {
      "cell_type": "code",
      "execution_count": 2,
      "metadata": {
        "id": "RlqjX0bLd_OX"
      },
      "outputs": [],
      "source": [
        "score['수지'] = 98"
      ]
    },
    {
      "cell_type": "code",
      "execution_count": 3,
      "metadata": {
        "id": "dA1DwZYAd_OX"
      },
      "outputs": [],
      "source": [
        "del score['길동']"
      ]
    },
    {
      "cell_type": "code",
      "execution_count": 4,
      "metadata": {
        "id": "AD7w98yCd_OY"
      },
      "outputs": [],
      "source": [
        "score.update({'민영': 85, '두리': 55, '남일': 69})\n"
      ]
    },
    {
      "cell_type": "code",
      "source": [
        "print(\"사전에 저장된 학생들의 이름과 점수:\", score)"
      ],
      "metadata": {
        "id": "J0pIOXtUeKlf",
        "outputId": "5e045cdd-067b-4cbd-8aaa-7e43c8af7ba5",
        "colab": {
          "base_uri": "https://localhost:8080/"
        }
      },
      "execution_count": 5,
      "outputs": [
        {
          "output_type": "stream",
          "name": "stdout",
          "text": [
            "사전에 저장된 학생들의 이름과 점수: {'철수': 95, '영희': 88, '수지': 98, '민영': 85, '두리': 55, '남일': 69}\n"
          ]
        }
      ]
    },
    {
      "cell_type": "markdown",
      "metadata": {
        "id": "R-2F5jEVd_OY"
      },
      "source": [
        "## 3번문제\n",
        "- 3. 다음 리스트에서 중복된 항목을 없애보자(Set 타입의 속성을 이용하자)\n",
        "  - [1,2,3,5,3,2,9,8,11,7,5,1]\n"
      ]
    },
    {
      "cell_type": "code",
      "execution_count": 11,
      "metadata": {
        "id": "XddPqE31d_OY",
        "outputId": "ec4b490b-cead-4501-831f-1922cf2b48e3",
        "colab": {
          "base_uri": "https://localhost:8080/"
        }
      },
      "outputs": [
        {
          "output_type": "stream",
          "name": "stdout",
          "text": [
            "[1, 2, 3, 5, 3, 2, 9, 8, 11, 7, 5, 1]\n"
          ]
        }
      ],
      "source": [
        "original_list = [1, 2, 3, 5, 3, 2, 9, 8, 11, 7, 5, 1]\n",
        "print(original_list)"
      ]
    },
    {
      "cell_type": "code",
      "execution_count": 12,
      "metadata": {
        "id": "4Okx11Xwd_OY",
        "outputId": "7db40621-5a8e-4d99-da9d-bc464cc34fc3",
        "colab": {
          "base_uri": "https://localhost:8080/"
        }
      },
      "outputs": [
        {
          "output_type": "stream",
          "name": "stdout",
          "text": [
            "중복된 항목이 없는 리스트: [1, 2, 3, 5, 7, 8, 9, 11]\n"
          ]
        }
      ],
      "source": [
        "# 리스트를 set으로 변환하여 중복된 항목을 제거\n",
        "unique_items = list(set(original_list))\n",
        "\n",
        "print(\"중복된 항목이 없는 리스트:\", unique_items)"
      ]
    },
    {
      "cell_type": "markdown",
      "metadata": {
        "id": "z_W3iFMfd_OY"
      },
      "source": [
        "## 4번문제\n",
        "- 4. 세 문자열에서 공통된 문자만 출력해 보자(Set의 속성 이용)\n",
        "  - \"Python is simple\",   \"apple is delicious\",  \"programming\"\n"
      ]
    },
    {
      "cell_type": "code",
      "execution_count": 9,
      "metadata": {
        "id": "hsG8YZPsd_OZ",
        "outputId": "ae05246b-1dfb-47d2-994a-a97440dd4525",
        "colab": {
          "base_uri": "https://localhost:8080/"
        }
      },
      "outputs": [
        {
          "output_type": "stream",
          "name": "stdout",
          "text": [
            "공통된 문자: {'o', 'i', 'p'}\n"
          ]
        }
      ],
      "source": [
        "# 주어진 세 문자열\n",
        "string1 = \"Python is simple\"\n",
        "string2 = \"apple is delicious\"\n",
        "string3 = \"programming\"\n",
        "\n",
        "# 각 문자열을 집합(set)으로 변환\n",
        "set1 = set(string1)\n",
        "set2 = set(string2)\n",
        "set3 = set(string3)\n",
        "\n",
        "# 세 집합의 교집합을 찾아서 공통된 문자를 얻음\n",
        "common_chars = set1.intersection(set2, set3)\n",
        "\n",
        "# 결과 출력\n",
        "print(\"공통된 문자:\", common_chars)\n"
      ]
    },
    {
      "cell_type": "markdown",
      "metadata": {
        "id": "TZckL_vVd_OZ"
      },
      "source": [
        "## 5번문제\n",
        "\n",
        "\n",
        "- 5. 다음과 같은 규칙을 같은 숫자의 합을 for 문을 이용하여 구현하세요\n",
        "  - •\t1 + (1+2) + (1+2+3) + (1+2+3+4) .......(1+2+3+.....10)\n"
      ]
    },
    {
      "cell_type": "code",
      "execution_count": 6,
      "metadata": {
        "id": "8W9t92iGd_OZ",
        "outputId": "55a7ca6f-a315-4761-e8da-df6dd7710b48",
        "colab": {
          "base_uri": "https://localhost:8080/"
        }
      },
      "outputs": [
        {
          "output_type": "stream",
          "name": "stdout",
          "text": [
            "결과: 220\n"
          ]
        }
      ],
      "source": [
        "total_sum = 0  # 결과를 저장할 변수를 초기화합니다\n",
        "\n",
        "for i in range(1, 11):  # 1부터 10까지의 숫자에 대해서 반복합니다\n",
        "    current_sum = 0  # 현재까지의 합을 저장할 변수를 초기화합니다\n",
        "    for j in range(1, i + 1):  # 1부터 i까지의 숫자에 대해서 반복합니다\n",
        "        current_sum += j  # 현재까지의 합을 업데이트합니다\n",
        "    total_sum += current_sum  # 현재까지의 합을 전체 합에 더합니다\n",
        "\n",
        "print(\"결과:\", total_sum)  # 최종 결과를 출력합니다\n"
      ]
    },
    {
      "cell_type": "markdown",
      "metadata": {
        "id": "AqiIcyFUd_OZ"
      },
      "source": [
        "## 6번 문제\n",
        "- 6. 1 부터 100까지의 숫자중 임의의 숫자를 발생시켜 해당 숫자를 맞쳐나가는 프로그램을 구현해 보자 (NumberGuess.py)\n",
        "\n",
        "  - random.randrange() 함수를 이용하여 1부터 100사이의 값을 발생시킨다\n",
        "  - 사용자가 임의의 숫자를 입력한다.\n",
        "  - 예를 들어 컴퓨터는 난수를 66을 발생시켰고 사용자가 55를 입력했으면\n",
        "  - 숫자가 작습니다. 더 큰 숫자를 입력하세요 라고 출력합니다.\n",
        "  - 컴퓨터가 발생시킨 숫자를 맞히면 정답은 XX  입니다. X 번만에 맞히셨습니다. 라고 출력합니다\n"
      ]
    },
    {
      "cell_type": "code",
      "execution_count": 15,
      "metadata": {
        "id": "py7_iOwmd_OZ",
        "outputId": "c71ce02a-f3da-401e-ba0a-ee36d05a9091",
        "colab": {
          "base_uri": "https://localhost:8080/"
        }
      },
      "outputs": [
        {
          "output_type": "stream",
          "name": "stdout",
          "text": [
            "1부터 100까지의 숫자 중 하나를 맞춰보세요.\n",
            "숫자를 입력하세요: 66\n",
            "숫자가 큽니다. 더 작은 숫자를 입력하세요.\n",
            "숫자를 입력하세요: 50\n",
            "숫자가 큽니다. 더 작은 숫자를 입력하세요.\n",
            "숫자를 입력하세요: 40\n",
            "숫자가 큽니다. 더 작은 숫자를 입력하세요.\n",
            "숫자를 입력하세요: 4\n",
            "숫자가 작습니다. 더 큰 숫자를 입력하세요.\n",
            "숫자를 입력하세요: 42\n",
            "숫자가 큽니다. 더 작은 숫자를 입력하세요.\n",
            "숫자를 입력하세요: 30\n",
            "숫자가 작습니다. 더 큰 숫자를 입력하세요.\n",
            "숫자를 입력하세요: 35\n",
            "숫자가 작습니다. 더 큰 숫자를 입력하세요.\n",
            "숫자를 입력하세요: 36\n",
            "숫자가 작습니다. 더 큰 숫자를 입력하세요.\n",
            "숫자를 입력하세요: 40\n",
            "숫자가 큽니다. 더 작은 숫자를 입력하세요.\n",
            "숫자를 입력하세요: 38\n",
            "정답은 38 입니다. 10번만에 맞히셨습니다.\n"
          ]
        }
      ],
      "source": [
        "import random\n",
        "\n",
        "def number_guess():\n",
        "    target_number = random.randrange(1, 101)  # 1부터 100까지의 난수 생성\n",
        "    attempts = 0  # 시도 횟수를 기록할 변수 초기화\n",
        "\n",
        "    print(\"1부터 100까지의 숫자 중 하나를 맞춰보세요.\")\n",
        "\n",
        "    while True:\n",
        "        user_guess = int(input(\"숫자를 입력하세요: \"))  # 사용자로부터 숫자 입력 받기\n",
        "        attempts += 1  # 시도 횟수 증가\n",
        "\n",
        "        if user_guess < target_number:\n",
        "            print(\"숫자가 작습니다. 더 큰 숫자를 입력하세요.\")\n",
        "        elif user_guess > target_number:\n",
        "            print(\"숫자가 큽니다. 더 작은 숫자를 입력하세요.\")\n",
        "        else:\n",
        "            print(f\"정답은 {target_number} 입니다. {attempts}번만에 맞히셨습니다.\")\n",
        "            break\n",
        "\n",
        "if __name__ == \"__main__\":\n",
        "    number_guess()\n",
        "2"
      ]
    },
    {
      "cell_type": "code",
      "execution_count": null,
      "metadata": {
        "id": "sBFqa4oFd_OZ"
      },
      "outputs": [],
      "source": []
    }
  ],
  "metadata": {
    "kernelspec": {
      "display_name": "Python 3",
      "language": "python",
      "name": "python3"
    },
    "language_info": {
      "codemirror_mode": {
        "name": "ipython",
        "version": 3
      },
      "file_extension": ".py",
      "mimetype": "text/x-python",
      "name": "python",
      "nbconvert_exporter": "python",
      "pygments_lexer": "ipython3",
      "version": "3.6.5"
    },
    "colab": {
      "provenance": [],
      "include_colab_link": true
    }
  },
  "nbformat": 4,
  "nbformat_minor": 0
}