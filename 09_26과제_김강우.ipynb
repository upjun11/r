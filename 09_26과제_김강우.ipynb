{
  "nbformat": 4,
  "nbformat_minor": 0,
  "metadata": {
    "colab": {
      "provenance": [],
      "authorship_tag": "ABX9TyPaKa/YB3V1qOxbPqzbA0Bx",
      "include_colab_link": true
    },
    "kernelspec": {
      "name": "python3",
      "display_name": "Python 3"
    },
    "language_info": {
      "name": "python"
    }
  },
  "cells": [
    {
      "cell_type": "markdown",
      "metadata": {
        "id": "view-in-github",
        "colab_type": "text"
      },
      "source": [
        "<a href=\"https://colab.research.google.com/github/upjun11/r/blob/main/09_26%EA%B3%BC%EC%A0%9C_%EA%B9%80%EA%B0%95%EC%9A%B0.ipynb\" target=\"_parent\"><img src=\"https://colab.research.google.com/assets/colab-badge.svg\" alt=\"Open In Colab\"/></a>"
      ]
    },
    {
      "cell_type": "markdown",
      "metadata": {
        "id": "FgaR-b2HyazZ"
      },
      "source": [
        "## 1.Numpy Basics"
      ]
    },
    {
      "cell_type": "markdown",
      "metadata": {
        "id": "GC4nfTx44AH0"
      },
      "source": [
        "### 1-01 배열 생성"
      ]
    },
    {
      "cell_type": "code",
      "execution_count": null,
      "metadata": {
        "id": "sp_WD2u0DpRn"
      },
      "outputs": [],
      "source": [
        "import numpy as np"
      ]
    },
    {
      "cell_type": "code",
      "execution_count": null,
      "metadata": {
        "colab": {
          "base_uri": "https://localhost:8080/"
        },
        "id": "BTEyRpVAyDi1",
        "outputId": "64726a31-d279-407b-8ad1-be9a6433cf46"
      },
      "outputs": [
        {
          "output_type": "execute_result",
          "data": {
            "text/plain": [
              "array([1, 2, 3, 4])"
            ]
          },
          "metadata": {},
          "execution_count": 10
        }
      ],
      "source": [
        "# 아래와 같은 1차원 배열을 생성하세요.\n",
        "a=np.array([1,2,3,4])\n",
        "a"
      ]
    },
    {
      "cell_type": "code",
      "execution_count": null,
      "metadata": {
        "id": "wuXxw_GOyDi7",
        "colab": {
          "base_uri": "https://localhost:8080/"
        },
        "outputId": "1251cab7-2c06-47f9-c568-a397427b1d5d"
      },
      "outputs": [
        {
          "output_type": "execute_result",
          "data": {
            "text/plain": [
              "array([[[1, 2, 3],\n",
              "        [4, 5, 6],\n",
              "        [7, 8, 9]]])"
            ]
          },
          "metadata": {},
          "execution_count": 11
        }
      ],
      "source": [
        "# 아래와 같이 2차원 배열을 생성하세요.\n",
        "a=np.array([[[1,2,3],[4,5,6],[7,8,9]]])\n",
        "a"
      ]
    },
    {
      "cell_type": "code",
      "execution_count": null,
      "metadata": {
        "id": "MDaWQbdnyDi8",
        "colab": {
          "base_uri": "https://localhost:8080/"
        },
        "outputId": "8f1ee0b2-c724-4cde-e8ed-0e6cbf8f83d7"
      },
      "outputs": [
        {
          "output_type": "execute_result",
          "data": {
            "text/plain": [
              "array([[[ 0,  1,  2,  3],\n",
              "        [ 4,  5,  6,  7],\n",
              "        [ 8,  9, 10, 11]]])"
            ]
          },
          "metadata": {},
          "execution_count": 12
        }
      ],
      "source": [
        "# 3차원 배열 생성\n",
        "a=np.array([[[0,1,2,3],[4,5,6,7],[8,9,10,11]]])\n",
        "a"
      ]
    },
    {
      "cell_type": "markdown",
      "metadata": {
        "id": "GMwnlWRny01N"
      },
      "source": [
        "#### 1-01-02 arange 함수\n"
      ]
    },
    {
      "cell_type": "code",
      "execution_count": null,
      "metadata": {
        "colab": {
          "base_uri": "https://localhost:8080/"
        },
        "id": "L_1W4w7cyDi8",
        "outputId": "9a68ea87-0dcc-468b-e317-2550a89f4eb9"
      },
      "outputs": [
        {
          "output_type": "execute_result",
          "data": {
            "text/plain": [
              "array([0, 1, 2, 3, 4, 5, 6, 7, 8, 9])"
            ]
          },
          "metadata": {},
          "execution_count": 14
        }
      ],
      "source": [
        "# 0 ~ 9 값을 갖는 배열 생성하세요.\n",
        "np.arange(10)"
      ]
    },
    {
      "cell_type": "code",
      "execution_count": null,
      "metadata": {
        "colab": {
          "base_uri": "https://localhost:8080/"
        },
        "id": "FQthb8wKyDi9",
        "outputId": "0969ddfc-e57b-455b-d9ba-27d3952838d0"
      },
      "outputs": [
        {
          "output_type": "execute_result",
          "data": {
            "text/plain": [
              "array([0. , 0.1, 0.2, 0.3, 0.4, 0.5, 0.6, 0.7, 0.8, 0.9])"
            ]
          },
          "metadata": {},
          "execution_count": 17
        }
      ],
      "source": [
        "# 0.1 ~ 1.0 까지 0.1씩 증가는 값을 갖는 배열 생성\n",
        "np.arange(0,1,0.1)\n"
      ]
    },
    {
      "cell_type": "markdown",
      "metadata": {
        "id": "_E58Wk_524pa"
      },
      "source": [
        "#### 1-01-03 linspace 함수\n"
      ]
    },
    {
      "cell_type": "code",
      "execution_count": null,
      "metadata": {
        "id": "wRrLzZoMyDi9"
      },
      "outputs": [],
      "source": [
        "# 1 ~ 10 까지 3개의 값을 갖는 배열 생성하세요.\n",
        "a=np.linspace(1,10,num=3)"
      ]
    },
    {
      "cell_type": "markdown",
      "metadata": {
        "id": "TeBJ57JR3SvK"
      },
      "source": [
        "#### 1-01-04 기타 배열 생성 함수"
      ]
    },
    {
      "cell_type": "code",
      "execution_count": null,
      "metadata": {
        "colab": {
          "base_uri": "https://localhost:8080/"
        },
        "id": "kPBbVWYDyDi-",
        "outputId": "2cced176-4bb4-4bdc-ab5c-b061ce5fd5a2"
      },
      "outputs": [
        {
          "data": {
            "text/plain": [
              "array([[1., 1.],\n",
              "       [1., 1.]])"
            ]
          },
          "execution_count": 8,
          "metadata": {
            "tags": []
          },
          "output_type": "execute_result"
        }
      ],
      "source": [
        "# 1 값으로 채워진 2행 2열의 배열 생성\n"
      ]
    },
    {
      "cell_type": "code",
      "execution_count": null,
      "metadata": {
        "colab": {
          "base_uri": "https://localhost:8080/"
        },
        "id": "D9nUpH58yDi_",
        "outputId": "51d147cb-a315-4750-f21c-237048e1567b"
      },
      "outputs": [
        {
          "output_type": "execute_result",
          "data": {
            "text/plain": [
              "array([[0., 0.],\n",
              "       [0., 0.]])"
            ]
          },
          "metadata": {},
          "execution_count": 2
        }
      ],
      "source": [
        "# 0 값으로 채워진 2행 2열의 배열 생성\n",
        "np.zeros((2,2))"
      ]
    },
    {
      "cell_type": "code",
      "execution_count": null,
      "metadata": {
        "colab": {
          "base_uri": "https://localhost:8080/"
        },
        "id": "G7nA9hoHyDi_",
        "outputId": "d587de65-3e49-4fd1-fa10-8b29e7b10a0c"
      },
      "outputs": [
        {
          "output_type": "execute_result",
          "data": {
            "text/plain": [
              "array([[-1, -1],\n",
              "       [-1, -1]])"
            ]
          },
          "metadata": {},
          "execution_count": 3
        }
      ],
      "source": [
        "# -1 값으로 채워진 2행 2열의 배열 생성\n",
        "# np.full(shape, value)  참고 함수\n",
        "np.full((2,2),-1)"
      ]
    },
    {
      "cell_type": "markdown",
      "metadata": {
        "id": "H29o9VbQ3vFq"
      },
      "source": [
        "### 1-02 Numpy Array 속성\n"
      ]
    },
    {
      "cell_type": "code",
      "execution_count": null,
      "metadata": {
        "id": "-uu5ye0W4uY6"
      },
      "outputs": [],
      "source": [
        "# 빈 곳에 알맞은 속성 이름을 적어보세요."
      ]
    },
    {
      "cell_type": "code",
      "execution_count": null,
      "metadata": {
        "colab": {
          "base_uri": "https://localhost:8080/"
        },
        "id": "esmgyh8eyDjA",
        "outputId": "3931795a-fab1-4be3-c6ed-d9e46f1fa68f"
      },
      "outputs": [
        {
          "output_type": "stream",
          "name": "stdout",
          "text": [
            "array의 차원: 2\n"
          ]
        }
      ],
      "source": [
        "array = np.array([[1, 2], [3, 4]])\n",
        "print('array의 차원:', array.ndim)\n"
      ]
    },
    {
      "cell_type": "code",
      "execution_count": null,
      "metadata": {
        "colab": {
          "base_uri": "https://localhost:8080/"
        },
        "id": "l3GYtgGWyDjB",
        "outputId": "85e91326-52e9-41f6-ce5e-74d63b6f9086"
      },
      "outputs": [
        {
          "output_type": "stream",
          "name": "stdout",
          "text": [
            "array의 각 차원별 크기: (2, 2)\n"
          ]
        }
      ],
      "source": [
        "print('array의 각 차원별 크기:', array.shape)"
      ]
    },
    {
      "cell_type": "code",
      "execution_count": null,
      "metadata": {
        "colab": {
          "base_uri": "https://localhost:8080/"
        },
        "id": "gNi4X0XWyDjB",
        "outputId": "2bb8ac2b-6e09-4a33-d33c-f7a13f3c4d56"
      },
      "outputs": [
        {
          "output_type": "stream",
          "name": "stdout",
          "text": [
            "array의 요소의 총 개수 : 4\n"
          ]
        }
      ],
      "source": [
        "print('array의 요소의 총 개수 :', array.size)"
      ]
    },
    {
      "cell_type": "code",
      "execution_count": null,
      "metadata": {
        "colab": {
          "base_uri": "https://localhost:8080/"
        },
        "id": "ECzYUGTPyDjB",
        "outputId": "8c29ad88-a48b-40c5-b4a8-c05dc341f070"
      },
      "outputs": [
        {
          "output_type": "stream",
          "name": "stdout",
          "text": [
            "array의 데이터 유형 : int64\n"
          ]
        }
      ],
      "source": [
        "print('array의 데이터 유형 :', array.dtype)    #int32, int64,  float32, float64"
      ]
    },
    {
      "cell_type": "code",
      "execution_count": null,
      "metadata": {
        "colab": {
          "base_uri": "https://localhost:8080/"
        },
        "id": "xc0VuZhgyDjC",
        "outputId": "378ec91f-00b2-46b3-9901-afbe91f775c8"
      },
      "outputs": [
        {
          "output_type": "stream",
          "name": "stdout",
          "text": [
            "array의 전치 (전) :\n",
            "[[1 2]\n",
            " [3 4]]\n",
            "array의 전치 (후) :\n",
            "[[1 3]\n",
            " [2 4]]\n"
          ]
        }
      ],
      "source": [
        "print('array의 전치 (전) :')\n",
        "print(array)\n",
        "print('array의 전치 (후) :')\n",
        "print(array.T)"
      ]
    }
  ]
}