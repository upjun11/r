{
  "nbformat": 4,
  "nbformat_minor": 0,
  "metadata": {
    "colab": {
      "provenance": [],
      "authorship_tag": "ABX9TyOnKGswnvvz5agIS58FLy6E",
      "include_colab_link": true
    },
    "kernelspec": {
      "name": "python3",
      "display_name": "Python 3"
    },
    "language_info": {
      "name": "python"
    }
  },
  "cells": [
    {
      "cell_type": "markdown",
      "metadata": {
        "id": "view-in-github",
        "colab_type": "text"
      },
      "source": [
        "<a href=\"https://colab.research.google.com/github/upjun11/r/blob/main/%EA%B8%B0%EA%B3%84%ED%95%99%EC%8A%B5(%ED%8C%8C%EC%9D%B4%EC%8D%AC)_230313.ipynb\" target=\"_parent\"><img src=\"https://colab.research.google.com/assets/colab-badge.svg\" alt=\"Open In Colab\"/></a>"
      ]
    },
    {
      "cell_type": "markdown",
      "source": [
        "**2023-3-13 기계학습**"
      ],
      "metadata": {
        "id": "uM73rsgyZxfA"
      }
    },
    {
      "cell_type": "code",
      "execution_count": null,
      "metadata": {
        "colab": {
          "base_uri": "https://localhost:8080/"
        },
        "id": "qv1YWmO5VwNN",
        "outputId": "f732ec9f-79c0-4bac-cf4a-9eefbb38860a"
      },
      "outputs": [
        {
          "output_type": "execute_result",
          "data": {
            "text/plain": [
              "int"
            ]
          },
          "metadata": {},
          "execution_count": 4
        }
      ],
      "source": [
        "a=3\n",
        "b=5.7\n",
        "\n",
        "type(a)"
      ]
    },
    {
      "cell_type": "code",
      "source": [
        "x = (input())\n",
        "\n",
        "x\n",
        "#x에 숫자를 입력하더라도 문자형으로 받는다."
      ],
      "metadata": {
        "colab": {
          "base_uri": "https://localhost:8080/",
          "height": 54
        },
        "id": "Nk5iYyMRXvtp",
        "outputId": "d89432e6-2a2d-4aef-9fcb-91328bd684fe"
      },
      "execution_count": null,
      "outputs": [
        {
          "name": "stdout",
          "output_type": "stream",
          "text": [
            "10\n"
          ]
        },
        {
          "output_type": "execute_result",
          "data": {
            "text/plain": [
              "'10'"
            ],
            "application/vnd.google.colaboratory.intrinsic+json": {
              "type": "string"
            }
          },
          "metadata": {},
          "execution_count": 9
        }
      ]
    },
    {
      "cell_type": "code",
      "source": [
        "x = int(input())\n",
        "y = int(input())\n",
        "\n",
        "print(\"{} + {} = {}\\n\" .format(x,y,x+y)) #.format 형식\n",
        "print(x, \"+\", y, '=', x+y) #이어붙이기 형식\n",
        "print(\"%d + %d = %d\"%(x,y,x+y)) #%출력방식[%d = 정수 , %f = 실수 , %s = 문자]"
      ],
      "metadata": {
        "colab": {
          "base_uri": "https://localhost:8080/"
        },
        "id": "nRUoy6LGYdmg",
        "outputId": "698cdb5c-817e-4faa-c4f0-a529a2231b3c"
      },
      "execution_count": null,
      "outputs": [
        {
          "output_type": "stream",
          "name": "stdout",
          "text": [
            "10\n",
            "35\n",
            "10 + 35 = 45\n",
            "\n",
            "10 + 35 = 45\n",
            "10 + 35 = 45\n"
          ]
        }
      ]
    },
    {
      "cell_type": "markdown",
      "source": [
        "# **인덱싱**"
      ],
      "metadata": {
        "id": "xGdPilPNa023"
      }
    },
    {
      "cell_type": "markdown",
      "source": [],
      "metadata": {
        "id": "l7XveEtQbgvQ"
      }
    },
    {
      "cell_type": "code",
      "source": [
        "Str = \"Hello pyton\"\n",
        "Str[4] #문자열의 5번째 글자만 출력"
      ],
      "metadata": {
        "colab": {
          "base_uri": "https://localhost:8080/",
          "height": 35
        },
        "id": "l9dfw8PWa6zf",
        "outputId": "aad735d9-52e0-47a4-bfb3-720f0e844a72"
      },
      "execution_count": null,
      "outputs": [
        {
          "output_type": "execute_result",
          "data": {
            "text/plain": [
              "'o'"
            ],
            "application/vnd.google.colaboratory.intrinsic+json": {
              "type": "string"
            }
          },
          "metadata": {},
          "execution_count": 21
        }
      ]
    },
    {
      "cell_type": "code",
      "source": [
        "Str[-1:-3:-1]\n",
        "#가장 뒤의 글자부터 뒤에서 세번째 글자까지 역순으로 표현\n",
        "\n",
        "Str[0:3] #세칸씩 띄어표현 "
      ],
      "metadata": {
        "colab": {
          "base_uri": "https://localhost:8080/",
          "height": 35
        },
        "id": "EGMfqwHgbp1i",
        "outputId": "72fb279e-97aa-4d3d-f8ec-f44b435ce920"
      },
      "execution_count": null,
      "outputs": [
        {
          "output_type": "execute_result",
          "data": {
            "text/plain": [
              "'Hel'"
            ],
            "application/vnd.google.colaboratory.intrinsic+json": {
              "type": "string"
            }
          },
          "metadata": {},
          "execution_count": 24
        }
      ]
    },
    {
      "cell_type": "markdown",
      "source": [
        "집합의 종류\n",
        "-리스트 = [ ]안에 표현 유동적 \n",
        "-튜플 = () 안에표현, 고정적\n",
        "-딕셔너리(사전) = {key:data}형식으로 구성\n",
        "하나 키는 여러데이터를 표현할수있다."
      ],
      "metadata": {
        "id": "5_xsxHCOdab4"
      }
    },
    {
      "cell_type": "code",
      "source": [
        "dic = {\"name\": \"youngjun\", \"Age\": [22,25,11,15]}\n",
        "dic[\"Age\"]"
      ],
      "metadata": {
        "colab": {
          "base_uri": "https://localhost:8080/"
        },
        "id": "CR8-Hhyid1mn",
        "outputId": "c31437c1-579c-4b7a-ad04-43b4c3287f11"
      },
      "execution_count": null,
      "outputs": [
        {
          "output_type": "execute_result",
          "data": {
            "text/plain": [
              "[22, 25, 11, 15]"
            ]
          },
          "metadata": {},
          "execution_count": 27
        }
      ]
    },
    {
      "cell_type": "code",
      "source": [
        "dic.keys() #정보를 불러오는열쇠\n",
        "dic.values() #열쇠에 이어진값\n",
        "dic.items() #딕셔너리에 있는 모든 열쇠의 값 "
      ],
      "metadata": {
        "colab": {
          "base_uri": "https://localhost:8080/"
        },
        "id": "wqnj0RU4ep8z",
        "outputId": "75c9d6fe-dcf1-48e4-e768-364f4bf27f9f"
      },
      "execution_count": null,
      "outputs": [
        {
          "output_type": "execute_result",
          "data": {
            "text/plain": [
              "dict_items([('name', 'youngjun'), ('Age', [22, 25, 11, 15])])"
            ]
          },
          "metadata": {},
          "execution_count": 28
        }
      ]
    },
    {
      "cell_type": "markdown",
      "source": [
        "제어문 / 반복문 / 함수만들기"
      ],
      "metadata": {
        "id": "OJO3LzCNi6rO"
      }
    },
    {
      "cell_type": "code",
      "source": [
        "#산술연산자"
      ],
      "metadata": {
        "id": "eKxtbn2WjAoP"
      },
      "execution_count": null,
      "outputs": []
    },
    {
      "cell_type": "code",
      "source": [
        "x=3\n",
        "y=7\n",
        "z=11"
      ],
      "metadata": {
        "id": "vlrIf2RpjDim"
      },
      "execution_count": null,
      "outputs": []
    },
    {
      "cell_type": "code",
      "source": [
        "print(z/x)\n",
        "round(z/x,4)"
      ],
      "metadata": {
        "colab": {
          "base_uri": "https://localhost:8080/"
        },
        "id": "0ZgtKaQQjOLP",
        "outputId": "ec4615ef-a830-4846-a19d-207e36f3f795"
      },
      "execution_count": null,
      "outputs": [
        {
          "output_type": "stream",
          "name": "stdout",
          "text": [
            "3.6666666666666665\n"
          ]
        },
        {
          "output_type": "execute_result",
          "data": {
            "text/plain": [
              "3.6667"
            ]
          },
          "metadata": {},
          "execution_count": 33
        }
      ]
    },
    {
      "cell_type": "code",
      "source": [
        "#논리연산자\n",
        "출력하는 값이 항상 논리형(True, False 중하나)\n",
        "== 같은가? ->  결과에 따라 T,F 을 출력\n",
        "!= 다른가?\n",
        "<,<= 앞의 값이 뒤에 값보다 작은가? 작거나 같은가?"
      ],
      "metadata": {
        "id": "L17iGxFslItH"
      },
      "execution_count": null,
      "outputs": []
    },
    {
      "cell_type": "code",
      "source": [
        "b = (10 == 5)\n",
        "b"
      ],
      "metadata": {
        "colab": {
          "base_uri": "https://localhost:8080/"
        },
        "id": "sNBMq3UTjilD",
        "outputId": "08d310db-3573-40bb-b5d8-f74ae110955a"
      },
      "execution_count": null,
      "outputs": [
        {
          "output_type": "execute_result",
          "data": {
            "text/plain": [
              "False"
            ]
          },
          "metadata": {},
          "execution_count": 36
        }
      ]
    },
    {
      "cell_type": "markdown",
      "source": [
        "조건문\n",
        "- 조건에 만족할 경우 들여쓰기 안에 문장을 실행\n",
        "> if(조건) : \n",
        "\n",
        "- 여러개의 조건을 확인해야 할 때는 elif 와 else 사용\n",
        "> 구성 = if + elif(여러개 가능) + else(필수X)\n",
        "\n"
      ],
      "metadata": {
        "id": "D2QPCRnPls59"
      }
    },
    {
      "cell_type": "code",
      "source": [
        "num = int(input())\n",
        "\n",
        "if(num > 10): \n",
        " print('{}는 10보다 크다\\n'.format(num))\n",
        "elif(num < 10):\n",
        "   print(\"{}는 10보다 작다\\n\".format(num))\n",
        "else:\n",
        "   print(\"{}는 10이다\\n\".format(num))\n",
        "  "
      ],
      "metadata": {
        "colab": {
          "base_uri": "https://localhost:8080/"
        },
        "id": "keL9UepbmcyO",
        "outputId": "8260a9a1-7ad8-4b79-82b9-10028f5850a3"
      },
      "execution_count": null,
      "outputs": [
        {
          "output_type": "stream",
          "name": "stdout",
          "text": [
            "7\n",
            "7는 10보다 작다\n",
            "\n"
          ]
        }
      ]
    },
    {
      "cell_type": "code",
      "source": [
        "num = int(input())\n",
        "if num % 2== 0: \n",
        "   print(\"짝수\")\n",
        "else: \n",
        " print(\"홀수\")\n"
      ],
      "metadata": {
        "colab": {
          "base_uri": "https://localhost:8080/"
        },
        "id": "FPR19-0Xp7ev",
        "outputId": "f17340b5-aabf-478e-cf09-c328f5d577ce"
      },
      "execution_count": null,
      "outputs": [
        {
          "output_type": "stream",
          "name": "stdout",
          "text": [
            "125\n",
            "홀수\n"
          ]
        }
      ]
    },
    {
      "cell_type": "markdown",
      "source": [
        "과제\n",
        "\n",
        "* 홀짝수구분\n",
        "*   학점출력\n",
        "*   로그인기능\n",
        "*  태어난해의띠 출력\n",
        "* 윤년검색\n",
        "\n"
      ],
      "metadata": {
        "id": "_ev14lH88XsN"
      }
    },
    {
      "cell_type": "code",
      "source": [
        "##홀짝수구분\n",
        "num = int(input())\n",
        "if num % 2== 0: \n",
        "   print(\"짝수이다\")\n",
        "else: \n",
        " print(\"홀수이다\")\n"
      ],
      "metadata": {
        "colab": {
          "base_uri": "https://localhost:8080/"
        },
        "id": "rt3AsFDX8nLf",
        "outputId": "ca748a10-890c-4620-86e2-4c0cbe9bef5e"
      },
      "execution_count": 2,
      "outputs": [
        {
          "output_type": "stream",
          "name": "stdout",
          "text": [
            "57\n",
            "홀수이다\n"
          ]
        }
      ]
    },
    {
      "cell_type": "code",
      "source": [
        "##학점출력\n",
        "num=int(input())\n",
        "if(num>=90):\n",
        "  print(\"{}점 A 입니다\".format(num))\n",
        "elif(num>=90\n",
        "     ):\n",
        "  print(\"{}점 B 입니다\".format(num))\n",
        "elif(num>=80):\n",
        "  print(\"{}점 C 입니다\".format(num))\n",
        "elif(num>=70):\n",
        "  print(\"{}점 D 입니다\".format(num))\n",
        "elif(num>=60):\n",
        "  print(\"{}점 E 입니다\".format(num)) \n",
        "else:\n",
        "  print(\"{}점 F 입니다\".format(num))\n",
        "     "
      ],
      "metadata": {
        "colab": {
          "base_uri": "https://localhost:8080/"
        },
        "id": "jEU41Waa-Fj_",
        "outputId": "f0c94e9a-140c-47c9-aab8-df3c3f8f5b8e"
      },
      "execution_count": 6,
      "outputs": [
        {
          "output_type": "stream",
          "name": "stdout",
          "text": [
            "87\n",
            "87점 C 입니다\n"
          ]
        }
      ]
    },
    {
      "cell_type": "code",
      "source": [
        "##로그인기능\n",
        "Id_check = \"upjun11\"\n",
        "Password_check = 12345\n",
        "\n",
        "Id = input()\n",
        "if Id == Id_check:\n",
        "  print(\"아이디 확인완료\")\n",
        "  password = int(input())\n",
        "  if(password == Password_check):\n",
        "    print(\"비밀번호 확인완료\\n\")\n",
        "    print(\"로그인 되었습니다\\n\")\n",
        "  else:\n",
        "    print(\"비밀번호  비동일\\n\")\n",
        "    print(\"로그인 실패\\n\")\n",
        "    \n",
        "else:\n",
        "  print(\"아이디 비동일\\n\")\n",
        "  print(\"로그인 실패\\n\")"
      ],
      "metadata": {
        "colab": {
          "base_uri": "https://localhost:8080/"
        },
        "id": "sEucjNIz_Dcp",
        "outputId": "9248247b-2759-4013-d437-a6b15a327987"
      },
      "execution_count": 10,
      "outputs": [
        {
          "output_type": "stream",
          "name": "stdout",
          "text": [
            "upjun11\n",
            "아이디 확인완료\n",
            "12345\n",
            "비밀번호 확인완료\n",
            "\n",
            "로그인 되었습니다\n",
            "\n"
          ]
        }
      ]
    },
    {
      "cell_type": "code",
      "source": [
        "##태어난해의띠출력\n",
        "birth = int(input())\n",
        "animal = {0:\"원숭이\",1:\"닭\",2:\"개\",3:\"돼지\",\n",
        "               4:\"쥐\",5:\"소\",6:\"범\",7:\"토끼\",8:\"용\",\n",
        "               9:\"뱀\",10:\"말\",11:\"양\"}\n",
        "\n",
        "print(\"{}년생은 {}띠입니다\".format(birth,animal[birth%12]))"
      ],
      "metadata": {
        "colab": {
          "base_uri": "https://localhost:8080/"
        },
        "id": "pLqlCG8X_dxS",
        "outputId": "e28429a3-5ae9-4af3-dde8-266533b49282"
      },
      "execution_count": 11,
      "outputs": [
        {
          "output_type": "stream",
          "name": "stdout",
          "text": [
            "1995\n",
            "1995년생은 돼지띠입니다\n"
          ]
        }
      ]
    },
    {
      "cell_type": "code",
      "source": [
        "##윤년검색\n",
        "year = int(input())\n",
        "\n",
        "if(year%4 == 0 and year%100 != 0 or year%400 == 0):\n",
        "  print(\"윤년입니다\")\n",
        "else:\n",
        "  print(\"윤년이 아닙니다\")"
      ],
      "metadata": {
        "colab": {
          "base_uri": "https://localhost:8080/"
        },
        "id": "AKRPxXiy_rhU",
        "outputId": "47590a5e-573a-48fe-f424-2c236453a594"
      },
      "execution_count": 13,
      "outputs": [
        {
          "output_type": "stream",
          "name": "stdout",
          "text": [
            "2000\n",
            "윤년입니다\n"
          ]
        }
      ]
    }
  ]
}