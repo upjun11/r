{
  "nbformat": 4,
  "nbformat_minor": 0,
  "metadata": {
    "colab": {
      "provenance": [],
      "authorship_tag": "ABX9TyOEcIprU4RpedfUCVtAeQhO",
      "include_colab_link": true
    },
    "kernelspec": {
      "name": "ir",
      "display_name": "R"
    },
    "language_info": {
      "name": "R"
    }
  },
  "cells": [
    {
      "cell_type": "markdown",
      "metadata": {
        "id": "view-in-github",
        "colab_type": "text"
      },
      "source": [
        "<a href=\"https://colab.research.google.com/github/upjun11/r/blob/main/230330_5%EC%A3%BC%EC%B0%A8_%EB%AC%B8%EC%A0%9C%ED%92%80%EC%9D%B4.ipynb\" target=\"_parent\"><img src=\"https://colab.research.google.com/assets/colab-badge.svg\" alt=\"Open In Colab\"/></a>"
      ]
    },
    {
      "cell_type": "code",
      "source": [
        "##99쪽 3번\n",
        "ID<-c(\"1\",\"2\",\"3\",\"4\",\"5\")\n",
        "MID_EXAM<-c(10,25,100,75,30)\n",
        "CLASS<-c(\"1반\",\"2반\",\"3반\",\"1반\",\"2반\")"
      ],
      "metadata": {
        "id": "qembK32qFrti"
      },
      "execution_count": 1,
      "outputs": []
    },
    {
      "cell_type": "code",
      "source": [
        "example_test<-data.frame(ID,MID_EXAM,CLASS)\n",
        "example_test"
      ],
      "metadata": {
        "colab": {
          "base_uri": "https://localhost:8080/",
          "height": 255
        },
        "id": "Jwia_Q-AGlmP",
        "outputId": "d1d4e163-85b1-4c54-caa0-43857622c516"
      },
      "execution_count": 3,
      "outputs": [
        {
          "output_type": "display_data",
          "data": {
            "text/html": [
              "<table class=\"dataframe\">\n",
              "<caption>A data.frame: 5 × 3</caption>\n",
              "<thead>\n",
              "\t<tr><th scope=col>ID</th><th scope=col>MID_EXAM</th><th scope=col>CLASS</th></tr>\n",
              "\t<tr><th scope=col>&lt;chr&gt;</th><th scope=col>&lt;dbl&gt;</th><th scope=col>&lt;chr&gt;</th></tr>\n",
              "</thead>\n",
              "<tbody>\n",
              "\t<tr><td>1</td><td> 10</td><td>1반</td></tr>\n",
              "\t<tr><td>2</td><td> 25</td><td>2반</td></tr>\n",
              "\t<tr><td>3</td><td>100</td><td>3반</td></tr>\n",
              "\t<tr><td>4</td><td> 75</td><td>1반</td></tr>\n",
              "\t<tr><td>5</td><td> 30</td><td>2반</td></tr>\n",
              "</tbody>\n",
              "</table>\n"
            ],
            "text/markdown": "\nA data.frame: 5 × 3\n\n| ID &lt;chr&gt; | MID_EXAM &lt;dbl&gt; | CLASS &lt;chr&gt; |\n|---|---|---|\n| 1 |  10 | 1반 |\n| 2 |  25 | 2반 |\n| 3 | 100 | 3반 |\n| 4 |  75 | 1반 |\n| 5 |  30 | 2반 |\n\n",
            "text/latex": "A data.frame: 5 × 3\n\\begin{tabular}{lll}\n ID & MID\\_EXAM & CLASS\\\\\n <chr> & <dbl> & <chr>\\\\\n\\hline\n\t 1 &  10 & 1반\\\\\n\t 2 &  25 & 2반\\\\\n\t 3 & 100 & 3반\\\\\n\t 4 &  75 & 1반\\\\\n\t 5 &  30 & 2반\\\\\n\\end{tabular}\n",
            "text/plain": [
              "  ID MID_EXAM CLASS\n",
              "1 1   10      1반  \n",
              "2 2   25      2반  \n",
              "3 3  100      3반  \n",
              "4 4   75      1반  \n",
              "5 5   30      2반  "
            ]
          },
          "metadata": {}
        }
      ]
    },
    {
      "cell_type": "code",
      "source": [
        "##113쪽 4번,5번,6번\n",
        "x<-c(1,3,5,7,9)"
      ],
      "metadata": {
        "id": "Gf971ggxICyV"
      },
      "execution_count": 4,
      "outputs": []
    },
    {
      "cell_type": "code",
      "source": [
        "y<-\"Hello\""
      ],
      "metadata": {
        "id": "JuYo5V2VIRxl"
      },
      "execution_count": 5,
      "outputs": []
    },
    {
      "cell_type": "code",
      "source": [
        "num_three_return<-function(a,b,c){\n",
        "  sum<-a + b + c\n",
        "  return(sum)\n",
        "}\n",
        "num_three_return(10,20,30)"
      ],
      "metadata": {
        "colab": {
          "base_uri": "https://localhost:8080/",
          "height": 34
        },
        "id": "YHtZB4FbIZcd",
        "outputId": "893c78ee-4e0e-48cf-9ab8-e825bfa1888a"
      },
      "execution_count": 6,
      "outputs": [
        {
          "output_type": "display_data",
          "data": {
            "text/html": [
              "60"
            ],
            "text/markdown": "60",
            "text/latex": "60",
            "text/plain": [
              "[1] 60"
            ]
          },
          "metadata": {}
        }
      ]
    },
    {
      "cell_type": "code",
      "source": [
        "##143쪽 2번\n",
        "if(age < 13){\n",
        "print(\"어린이입니다.\")\n",
        "} else if (age < 19) {\n",
        "print(\"청소년입니다\")\n",
        "} else {\n",
        "print(\"성인입니다.\")\n",
        "}"
      ],
      "metadata": {
        "id": "5URx32bIJINe"
      },
      "execution_count": null,
      "outputs": []
    },
    {
      "cell_type": "code",
      "source": [
        "##143쪽 3번\n",
        "sum<-0\n",
        "for(i in 1:100){\n",
        "  sum<-sum + i\n",
        "  i<-i+1\n",
        "}\n",
        "cat(sum)"
      ],
      "metadata": {
        "colab": {
          "base_uri": "https://localhost:8080/"
        },
        "id": "_E0NNdiDLDTg",
        "outputId": "92b03c61-95fd-4bf8-e799-a38f69ff53ca"
      },
      "execution_count": 14,
      "outputs": [
        {
          "output_type": "stream",
          "name": "stdout",
          "text": [
            "5050"
          ]
        }
      ]
    },
    {
      "cell_type": "code",
      "source": [
        "##183쪽 1번,2번,3번\n",
        "data(iris)"
      ],
      "metadata": {
        "id": "cen3KobCMfuU"
      },
      "execution_count": 15,
      "outputs": []
    },
    {
      "cell_type": "code",
      "source": [
        "ls(iris)"
      ],
      "metadata": {
        "colab": {
          "base_uri": "https://localhost:8080/",
          "height": 34
        },
        "id": "2YbsZ8fFMpp1",
        "outputId": "a0f90c6d-5923-41f1-c2c4-10b19e190d27"
      },
      "execution_count": 19,
      "outputs": [
        {
          "output_type": "display_data",
          "data": {
            "text/html": [
              "<style>\n",
              ".list-inline {list-style: none; margin:0; padding: 0}\n",
              ".list-inline>li {display: inline-block}\n",
              ".list-inline>li:not(:last-child)::after {content: \"\\00b7\"; padding: 0 .5ex}\n",
              "</style>\n",
              "<ol class=list-inline><li>'Petal.Length'</li><li>'Petal.Width'</li><li>'Sepal.Length'</li><li>'Sepal.Width'</li><li>'Species'</li></ol>\n"
            ],
            "text/markdown": "1. 'Petal.Length'\n2. 'Petal.Width'\n3. 'Sepal.Length'\n4. 'Sepal.Width'\n5. 'Species'\n\n\n",
            "text/latex": "\\begin{enumerate*}\n\\item 'Petal.Length'\n\\item 'Petal.Width'\n\\item 'Sepal.Length'\n\\item 'Sepal.Width'\n\\item 'Species'\n\\end{enumerate*}\n",
            "text/plain": [
              "[1] \"Petal.Length\" \"Petal.Width\"  \"Sepal.Length\" \"Sepal.Width\"  \"Species\"     "
            ]
          },
          "metadata": {}
        }
      ]
    },
    {
      "cell_type": "code",
      "source": [
        "nrow(iris)"
      ],
      "metadata": {
        "colab": {
          "base_uri": "https://localhost:8080/",
          "height": 34
        },
        "id": "qhFhcucDMyfk",
        "outputId": "70a41ede-6cca-4af0-c4bf-e457b453dd86"
      },
      "execution_count": 20,
      "outputs": [
        {
          "output_type": "display_data",
          "data": {
            "text/html": [
              "150"
            ],
            "text/markdown": "150",
            "text/latex": "150",
            "text/plain": [
              "[1] 150"
            ]
          },
          "metadata": {}
        }
      ]
    },
    {
      "cell_type": "code",
      "source": [
        "quantile(iris$.Length,probs = 0.25)\n",
        "quantile(iris$.Length,probs = 1)"
      ],
      "metadata": {
        "colab": {
          "base_uri": "https://localhost:8080/",
          "height": 52
        },
        "id": "8ji-IWh4M1xt",
        "outputId": "cd9b5795-65f9-4a1b-9cde-9f3be818a091"
      },
      "execution_count": 23,
      "outputs": [
        {
          "output_type": "display_data",
          "data": {
            "text/html": [
              "<strong>25%:</strong> &lt;NA&gt;"
            ],
            "text/markdown": "**25%:** &lt;NA&gt;",
            "text/latex": "\\textbf{25\\textbackslash{}\\%:} <NA>",
            "text/plain": [
              "25% \n",
              " NA "
            ]
          },
          "metadata": {}
        },
        {
          "output_type": "display_data",
          "data": {
            "text/html": [
              "<strong>100%:</strong> &lt;NA&gt;"
            ],
            "text/markdown": "**100%:** &lt;NA&gt;",
            "text/latex": "\\textbf{100\\textbackslash{}\\%:} <NA>",
            "text/plain": [
              "100% \n",
              "  NA "
            ]
          },
          "metadata": {}
        }
      ]
    },
    {
      "cell_type": "code",
      "source": [
        "##203쪽 1번,2번,3번\n",
        "y1<-c(10,15,20,30,40,50,55,66,77,80,90,100,200,225)"
      ],
      "metadata": {
        "id": "jimTChuBNWvb"
      },
      "execution_count": 28,
      "outputs": []
    },
    {
      "cell_type": "code",
      "source": [
        "boxplot(y1)"
      ],
      "metadata": {
        "colab": {
          "base_uri": "https://localhost:8080/",
          "height": 437
        },
        "id": "EthR9vJQNp9k",
        "outputId": "35d25306-00d7-4133-d129-9f864dbd4037"
      },
      "execution_count": 29,
      "outputs": [
        {
          "output_type": "display_data",
          "data": {
            "text/plain": [
              "plot without title"
            ],
            "image/png": "[encoded data removed]"
          },
          "metadata": {
            "image/png": {
              "width": 420,
              "height": 420
            }
          }
        }
      ]
    },
    {
      "cell_type": "code",
      "source": [
        "stem(y1)"
      ],
      "metadata": {
        "colab": {
          "base_uri": "https://localhost:8080/"
        },
        "id": "xAT8VhulNzit",
        "outputId": "11bc9912-4afe-48d1-e493-cb1eccdd2d12"
      },
      "execution_count": 30,
      "outputs": [
        {
          "output_type": "stream",
          "name": "stdout",
          "text": [
            "\n",
            "  The decimal point is 2 digit(s) to the right of the |\n",
            "\n",
            "  0 | 12234\n",
            "  0 | 567889\n",
            "  1 | 0\n",
            "  1 | \n",
            "  2 | 03\n",
            "\n"
          ]
        }
      ]
    },
    {
      "cell_type": "code",
      "source": [
        "plot(y1)"
      ],
      "metadata": {
        "colab": {
          "base_uri": "https://localhost:8080/",
          "height": 437
        },
        "id": "YpimgWwJN4Ae",
        "outputId": "8de811c5-5df9-481f-dde6-5719d836a9a4"
      },
      "execution_count": 31,
      "outputs": [
        {
          "output_type": "display_data",
          "data": {
            "text/plain": [
              "plot without title"
            ],
            "image/png": "[encoded data removed]"
          },
          "metadata": {
            "image/png": {
              "width": 420,
              "height": 420
            }
          }
        }
      ]
    },
    {
      "cell_type": "code",
      "source": [],
      "metadata": {
        "id": "lp7joSWcN7O1"
      },
      "execution_count": null,
      "outputs": []
    }
  ]
}