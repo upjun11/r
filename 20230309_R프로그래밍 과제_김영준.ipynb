{
  "nbformat": 4,
  "nbformat_minor": 0,
  "metadata": {
    "colab": {
      "provenance": [],
      "authorship_tag": "ABX9TyOOa7JMY3NXIpMO2clL1d2I",
      "include_colab_link": true
    },
    "kernelspec": {
      "name": "ir",
      "display_name": "R"
    },
    "language_info": {
      "name": "R"
    }
  },
  "cells": [
    {
      "cell_type": "markdown",
      "metadata": {
        "id": "view-in-github",
        "colab_type": "text"
      },
      "source": [
        "<a href=\"https://colab.research.google.com/github/upjun11/r/blob/main/20230309_R%ED%94%84%EB%A1%9C%EA%B7%B8%EB%9E%98%EB%B0%8D%20%EA%B3%BC%EC%A0%9C_%EA%B9%80%EC%98%81%EC%A4%80.ipynb\" target=\"_parent\"><img src=\"https://colab.research.google.com/assets/colab-badge.svg\" alt=\"Open In Colab\"/></a>"
      ]
    },
    {
      "cell_type": "code",
      "execution_count": 3,
      "metadata": {
        "colab": {
          "base_uri": "https://localhost:8080/",
          "height": 412
        },
        "id": "OdTp2hSI2NMx",
        "outputId": "3c409f94-7a25-4a61-cd2a-eeb41e8d8ec5"
      },
      "outputs": [
        {
          "output_type": "display_data",
          "data": {
            "text/html": [
              "<table class=\"dataframe\">\n",
              "<caption>A data.frame: 10 × 4</caption>\n",
              "<thead>\n",
              "\t<tr><th scope=col>ID</th><th scope=col>SEX</th><th scope=col>AGE</th><th scope=col>AREA</th></tr>\n",
              "\t<tr><th scope=col>&lt;dbl&gt;</th><th scope=col>&lt;chr&gt;</th><th scope=col>&lt;dbl&gt;</th><th scope=col>&lt;chr&gt;</th></tr>\n",
              "</thead>\n",
              "<tbody>\n",
              "\t<tr><td> 1</td><td>F</td><td>50</td><td>서울</td></tr>\n",
              "\t<tr><td> 2</td><td>M</td><td>40</td><td>경기</td></tr>\n",
              "\t<tr><td> 3</td><td>F</td><td>28</td><td>제주</td></tr>\n",
              "\t<tr><td> 4</td><td>M</td><td>50</td><td>서울</td></tr>\n",
              "\t<tr><td> 5</td><td>M</td><td>27</td><td>서울</td></tr>\n",
              "\t<tr><td> 6</td><td>F</td><td>23</td><td>서울</td></tr>\n",
              "\t<tr><td> 7</td><td>F</td><td>56</td><td>경기</td></tr>\n",
              "\t<tr><td> 8</td><td>F</td><td>47</td><td>서울</td></tr>\n",
              "\t<tr><td> 9</td><td>M</td><td>20</td><td>인천</td></tr>\n",
              "\t<tr><td>10</td><td>F</td><td>38</td><td>경기</td></tr>\n",
              "</tbody>\n",
              "</table>\n"
            ],
            "text/markdown": "\nA data.frame: 10 × 4\n\n| ID &lt;dbl&gt; | SEX &lt;chr&gt; | AGE &lt;dbl&gt; | AREA &lt;chr&gt; |\n|---|---|---|---|\n|  1 | F | 50 | 서울 |\n|  2 | M | 40 | 경기 |\n|  3 | F | 28 | 제주 |\n|  4 | M | 50 | 서울 |\n|  5 | M | 27 | 서울 |\n|  6 | F | 23 | 서울 |\n|  7 | F | 56 | 경기 |\n|  8 | F | 47 | 서울 |\n|  9 | M | 20 | 인천 |\n| 10 | F | 38 | 경기 |\n\n",
            "text/latex": "A data.frame: 10 × 4\n\\begin{tabular}{llll}\n ID & SEX & AGE & AREA\\\\\n <dbl> & <chr> & <dbl> & <chr>\\\\\n\\hline\n\t  1 & F & 50 & 서울\\\\\n\t  2 & M & 40 & 경기\\\\\n\t  3 & F & 28 & 제주\\\\\n\t  4 & M & 50 & 서울\\\\\n\t  5 & M & 27 & 서울\\\\\n\t  6 & F & 23 & 서울\\\\\n\t  7 & F & 56 & 경기\\\\\n\t  8 & F & 47 & 서울\\\\\n\t  9 & M & 20 & 인천\\\\\n\t 10 & F & 38 & 경기\\\\\n\\end{tabular}\n",
            "text/plain": [
              "   ID SEX AGE AREA\n",
              "1   1 F   50  서울\n",
              "2   2 M   40  경기\n",
              "3   3 F   28  제주\n",
              "4   4 M   50  서울\n",
              "5   5 M   27  서울\n",
              "6   6 F   23  서울\n",
              "7   7 F   56  경기\n",
              "8   8 F   47  서울\n",
              "9   9 M   20  인천\n",
              "10 10 F   38  경기"
            ]
          },
          "metadata": {}
        }
      ],
      "source": [
        "ID <-c(1, 2, 3, 4, 5, 6, 7, 8, 9, 10)\n",
        "SEX <-c(\"F\", \"M\", \"F\", \"M\", \"M\", \"F\", \"F\", \"F\", \"M\", \"F\")\n",
        "AGE <-c(50, 40, 28, 50, 27, 23, 56, 47, 20, 38)\n",
        "AREA <-c(\"서울\", \"경기\", \"제주\", \"서울\", \"서울\",\"서울\",  \"경기\", \"서울\", \"인천\", \"경기\")\n",
        "dataframe_ex <- data.frame(ID, SEX, AGE, AREA)\n",
        "dataframe_ex"
      ]
    },
    {
      "cell_type": "code",
      "source": [
        "frute<-c(\"apple\", \"banana\", \"banana\", \"apple\", \"apple\")\n",
        "frute<-factor(frute, labels = c(\"apple\", \"banana\", \"banana\", \"apple\", \"apple\")"
      ],
      "metadata": {
        "colab": {
          "base_uri": "https://localhost:8080/",
          "height": 156
        },
        "id": "9g-7SSXY2r-B",
        "outputId": "2f653c5b-1cdf-4c3e-d10b-acbd695803b1"
      },
      "execution_count": 2,
      "outputs": [
        {
          "output_type": "error",
          "ename": "ERROR",
          "evalue": "ignored",
          "traceback": [
            "Error in parse(text = x, srcfile = src): <text>:3:0: unexpected end of input\n1: frute<-c(\"apple\", \"banana\", \"banana\", \"apple\", \"apple\")\n2: frute<-factor(frute, labels = c(\"apple\", \"banana\", \"banana\", \"apple\", \"apple\")\n  ^\nTraceback:\n"
          ]
        }
      ]
    },
    {
      "cell_type": "markdown",
      "source": [
        "조건문 / 반복문"
      ],
      "metadata": {
        "id": "vuuR4dw19F_u"
      }
    },
    {
      "cell_type": "code",
      "source": [
        "x<- 1: 10\n",
        "y<- 10: 1"
      ],
      "metadata": {
        "id": "GS1BLSkn9L0e"
      },
      "execution_count": 4,
      "outputs": []
    },
    {
      "cell_type": "code",
      "source": [
        "print(x)"
      ],
      "metadata": {
        "colab": {
          "base_uri": "https://localhost:8080/"
        },
        "id": "ZSpl_lY89bzH",
        "outputId": "d8743b39-b66a-4bfa-ab17-ed2b91aa51e5"
      },
      "execution_count": null,
      "outputs": [
        {
          "output_type": "stream",
          "name": "stdout",
          "text": [
            " [1]  1  2  3  4  5  6  7  8  9 10\n"
          ]
        }
      ]
    },
    {
      "cell_type": "code",
      "source": [
        "print(y)"
      ],
      "metadata": {
        "colab": {
          "base_uri": "https://localhost:8080/"
        },
        "id": "CEqWnrnK9jfX",
        "outputId": "ca6e9cc5-3faf-4eec-9036-4bb8677ad261"
      },
      "execution_count": null,
      "outputs": [
        {
          "output_type": "stream",
          "name": "stdout",
          "text": [
            " [1] 10  9  8  7  6  5  4  3  2  1\n"
          ]
        }
      ]
    },
    {
      "cell_type": "code",
      "source": [
        "1y"
      ],
      "metadata": {
        "id": "t0bajgKZADLe"
      },
      "execution_count": null,
      "outputs": []
    },
    {
      "cell_type": "code",
      "source": [
        "a<-10\n",
        "if(a %% 2== 0) {\n",
        "  print(\"짝수\")} else{\n",
        "    print(\"홀수\")\n",
        "    }"
      ],
      "metadata": {
        "colab": {
          "base_uri": "https://localhost:8080/"
        },
        "id": "HWMGL9FfAH8e",
        "outputId": "d13a750c-2328-449e-d8b1-f5e15e28a5a6"
      },
      "execution_count": null,
      "outputs": [
        {
          "output_type": "stream",
          "name": "stdout",
          "text": [
            "[1] \"짝수\"\n"
          ]
        }
      ]
    },
    {
      "cell_type": "markdown",
      "source": [
        "<3월 9일 과제> -김영준-"
      ],
      "metadata": {
        "id": "6yxm1byuNoIu"
      }
    },
    {
      "cell_type": "code",
      "source": [
        "##1번 세 수 중 가장 큰 수 출력\n",
        "a<-3\n",
        "b<-9\n",
        "c<-1\n",
        "if(a>=b){\n",
        "  if(a>=c){\n",
        "    print(a)\n",
        "  }else{print(c)}\n",
        "}else{\n",
        "  if(b>=c){\n",
        "    print(b)\n",
        "  }else{print(c)}\n",
        "}\n"
      ],
      "metadata": {
        "id": "Mnz_aY66BA2W"
      },
      "execution_count": null,
      "outputs": []
    },
    {
      "cell_type": "markdown",
      "source": [
        "반복문"
      ],
      "metadata": {
        "id": "aWOM1mtOGfPF"
      }
    },
    {
      "cell_type": "code",
      "source": [
        "##2번 내림차순출력\n",
        "for(i in 1:100){\n",
        "  print(i)\n",
        "}"
      ],
      "metadata": {
        "id": "AvEyiVG7GjN1"
      },
      "execution_count": null,
      "outputs": []
    },
    {
      "cell_type": "code",
      "source": [
        "##3번 윤년검색기\n",
        "year <- 2004\n",
        "\n",
        "if((year%%4 == 0 & year%%100 != 0 | year%%400 == 0)){\n",
        "  print(\"윤년입니다\")\n",
        "}else{print(\"윤년이 아닙니다\")}"
      ],
      "metadata": {
        "colab": {
          "base_uri": "https://localhost:8080/"
        },
        "id": "0x3Dweqv16HJ",
        "outputId": "1914b499-6556-45f0-80d7-8633d8b64c0e"
      },
      "execution_count": 6,
      "outputs": [
        {
          "output_type": "stream",
          "name": "stdout",
          "text": [
            "[1] \"윤년입니다\"\n"
          ]
        }
      ]
    },
    {
      "cell_type": "code",
      "source": [
        "##4번 구구단 출력\n",
        "for(i in 1:9){\n",
        "  a<-2\n",
        "  result<-a*i\n",
        "  print(result)\n",
        "}"
      ],
      "metadata": {
        "id": "GuJdSYBLGz-U"
      },
      "execution_count": null,
      "outputs": []
    },
    {
      "cell_type": "code",
      "source": [
        "##5번 1~100 합구하기\n",
        "sum<-0\n",
        "for( i in 1:100){\n",
        "  sum <- sum +i\n",
        "}\n",
        "print(sum)"
      ],
      "metadata": {
        "colab": {
          "base_uri": "https://localhost:8080/"
        },
        "id": "dR-i_kL7HhTc",
        "outputId": "97569ffa-767f-44d1-bb21-8385c06f5d67"
      },
      "execution_count": 8,
      "outputs": [
        {
          "output_type": "stream",
          "name": "stdout",
          "text": [
            "[1] 5050\n"
          ]
        }
      ]
    },
    {
      "cell_type": "code",
      "source": [
        "##6번 1~5까지 순차곱 구하기\n",
        "a <- 5\n",
        "sum <- 1\n",
        "for(i in 1:a){\n",
        "  sum <- sum*i \n",
        "}\n",
        "sum"
      ],
      "metadata": {
        "colab": {
          "base_uri": "https://localhost:8080/",
          "height": 34
        },
        "id": "y3ykyxAe5Hdg",
        "outputId": "24b732e2-18ea-4bbd-c04b-dbf4dbe372a8"
      },
      "execution_count": 9,
      "outputs": [
        {
          "output_type": "display_data",
          "data": {
            "text/html": [
              "120"
            ],
            "text/markdown": "120",
            "text/latex": "120",
            "text/plain": [
              "[1] 120"
            ]
          },
          "metadata": {}
        }
      ]
    },
    {
      "cell_type": "code",
      "source": [
        "##7번 1~100까지 짝수/홀수 출력\n",
        "for(i in 1:100){\n",
        "  if(i%%2 == 0){print(\"짝수입니다\")\n",
        "  }else{print(\"홀수입니다\")}\n",
        "}"
      ],
      "metadata": {
        "id": "aG9oTvgK5RBb"
      },
      "execution_count": null,
      "outputs": []
    },
    {
      "cell_type": "code",
      "source": [
        "##8번 1~100 5의배수 출력\n",
        "for(i in 1:100){\n",
        "  if(i%%5 == 0){print(\"5의 배수\")\n",
        "  }else{print(\"5의 배수가 아님\")}\n",
        "}"
      ],
      "metadata": {
        "id": "TFfYBqR_52zz"
      },
      "execution_count": null,
      "outputs": []
    },
    {
      "cell_type": "code",
      "source": [
        "##9번 1~100 2와3의 공배수\n"
      ],
      "metadata": {
        "id": "4z3jXS8e6GN9"
      },
      "execution_count": 15,
      "outputs": []
    },
    {
      "cell_type": "code",
      "source": [
        "##10번 1~100 평균구하기 \n",
        "sum <- 0\n",
        "for(i in 1:100){\n",
        "  sum <- sum + i\n",
        "}\n",
        "print(sum/100)"
      ],
      "metadata": {
        "colab": {
          "base_uri": "https://localhost:8080/"
        },
        "id": "HTcPcpPP6SNe",
        "outputId": "a2a64547-5e38-48d8-a103-87984466a539"
      },
      "execution_count": 16,
      "outputs": [
        {
          "output_type": "stream",
          "name": "stdout",
          "text": [
            "[1] 50.5\n"
          ]
        }
      ]
    }
  ]
}