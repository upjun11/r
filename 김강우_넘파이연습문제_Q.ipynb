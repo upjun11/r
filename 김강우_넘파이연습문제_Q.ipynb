{
  "cells": [
    {
      "cell_type": "markdown",
      "metadata": {
        "id": "view-in-github",
        "colab_type": "text"
      },
      "source": [
        "<a href=\"https://colab.research.google.com/github/upjun11/r/blob/main/%EA%B9%80%EA%B0%95%EC%9A%B0_%EB%84%98%ED%8C%8C%EC%9D%B4%EC%97%B0%EC%8A%B5%EB%AC%B8%EC%A0%9C_Q.ipynb\" target=\"_parent\"><img src=\"https://colab.research.google.com/assets/colab-badge.svg\" alt=\"Open In Colab\"/></a>"
      ]
    },
    {
      "cell_type": "markdown",
      "metadata": {
        "id": "UMy1H-P-lIzF"
      },
      "source": [
        "### Numpy 함수"
      ]
    },
    {
      "cell_type": "markdown",
      "metadata": {
        "id": "0KLh5w4alIzG"
      },
      "source": [
        "#### 0~1000사이의 값을 25개 저장하고 있는 배열을 생성하세요 (배열1)\n",
        "* randint 함수를 사용합니다\n",
        "* 중복 값은 허용합니다.\n",
        "* seed(777)"
      ]
    },
    {
      "cell_type": "code",
      "execution_count": null,
      "metadata": {
        "id": "f7vbjyvMlIzG",
        "outputId": "1dca0c5e-3433-4e20-82aa-2174be901ec8",
        "colab": {
          "base_uri": "https://localhost:8080/"
        }
      },
      "outputs": [
        {
          "output_type": "execute_result",
          "data": {
            "text/plain": [
              "array([103, 815, 571, 934, 599, 945,  71, 669, 639, 116, 423, 985, 814,\n",
              "       506, 792, 295, 914, 397, 654,  32, 859, 321, 850, 340, 325])"
            ]
          },
          "metadata": {},
          "execution_count": 1
        }
      ],
      "source": [
        "# 코드를 채우세요\n",
        "import numpy as np\n",
        "import matplotlib.pyplot as plt\n",
        "import random\n",
        "\n",
        "np.random.seed(777)\n",
        "arr1=np.random.randint(0,1000,25)\n",
        "arr1"
      ]
    },
    {
      "cell_type": "markdown",
      "metadata": {
        "id": "jDFt1ntjlIzH"
      },
      "source": [
        "#### Shape 변경"
      ]
    },
    {
      "cell_type": "markdown",
      "metadata": {
        "id": "IcWx0pk9lIzH"
      },
      "source": [
        "- 배열1의 shape을 변경하여 배열2에 저장하세요. 행은 5개 열은 자동으로 맞추도록 합니다."
      ]
    },
    {
      "cell_type": "code",
      "source": [
        "arr2=np.array(arr1).reshape(5,5);\n",
        "arr2"
      ],
      "metadata": {
        "colab": {
          "base_uri": "https://localhost:8080/"
        },
        "id": "gJduXrGMcWER",
        "outputId": "48e3a2a1-8b7e-4f6c-db0e-72d0049af685"
      },
      "execution_count": null,
      "outputs": [
        {
          "output_type": "execute_result",
          "data": {
            "text/plain": [
              "array([[103, 815, 571, 934, 599],\n",
              "       [945,  71, 669, 639, 116],\n",
              "       [423, 985, 814, 506, 792],\n",
              "       [295, 914, 397, 654,  32],\n",
              "       [859, 321, 850, 340, 325]])"
            ]
          },
          "metadata": {},
          "execution_count": 2
        }
      ]
    },
    {
      "cell_type": "markdown",
      "metadata": {
        "id": "p_dBx4UvlIzI"
      },
      "source": [
        "* arr2의 값 중 71인 값을 찾아 10을 곱하세요"
      ]
    },
    {
      "cell_type": "code",
      "execution_count": null,
      "metadata": {
        "scrolled": true,
        "id": "g9nqQTallIzI",
        "outputId": "de9835ed-3e70-487d-a903-c3c13bf678da",
        "colab": {
          "base_uri": "https://localhost:8080/"
        }
      },
      "outputs": [
        {
          "output_type": "execute_result",
          "data": {
            "text/plain": [
              "array([[103, 815, 571, 934, 599],\n",
              "       [945, 710, 669, 639, 116],\n",
              "       [423, 985, 814, 506, 792],\n",
              "       [295, 914, 397, 654,  32],\n",
              "       [859, 321, 850, 340, 325]])"
            ]
          },
          "metadata": {},
          "execution_count": 3
        }
      ],
      "source": [
        "# 코드를 채우세요\n",
        "arr2[1:2,1]=arr2[1:2,1]*10\n",
        "arr2"
      ]
    },
    {
      "cell_type": "markdown",
      "metadata": {
        "id": "u0zZGm_JlIzI"
      },
      "source": [
        "#### 배열2의 원소 중 가운데 위치한 9개 원소를 추출하여 shape을 유지하여 출력해보세요. (배열3)"
      ]
    },
    {
      "cell_type": "code",
      "execution_count": null,
      "metadata": {
        "id": "EMyDW4fdlIzI",
        "outputId": "aca6be74-0ff9-466a-c26c-322d5fc4c23e",
        "colab": {
          "base_uri": "https://localhost:8080/"
        }
      },
      "outputs": [
        {
          "output_type": "execute_result",
          "data": {
            "text/plain": [
              "array([[710, 669, 639],\n",
              "       [985, 814, 506],\n",
              "       [914, 397, 654]])"
            ]
          },
          "metadata": {},
          "execution_count": 4
        }
      ],
      "source": [
        "# 코드를 채우세요\n",
        "arr3=arr2[1:4,1:4]\n",
        "arr3"
      ]
    },
    {
      "cell_type": "markdown",
      "metadata": {
        "id": "J4O_wZXHlIzJ"
      },
      "source": [
        "#### 배열3에 10을 곱한 후 원본 배열(배열2)이 수정됐는지 확인하세요"
      ]
    },
    {
      "cell_type": "code",
      "execution_count": null,
      "metadata": {
        "id": "g5yCvmBOlIzJ",
        "outputId": "44978da9-b1ea-46b2-b3ef-78b4bdccdb3b",
        "colab": {
          "base_uri": "https://localhost:8080/"
        }
      },
      "outputs": [
        {
          "output_type": "execute_result",
          "data": {
            "text/plain": [
              "array([[ 103,  815,  571,  934,  599],\n",
              "       [ 945, 7100, 6690, 6390,  116],\n",
              "       [ 423, 9850, 8140, 5060,  792],\n",
              "       [ 295, 9140, 3970, 6540,   32],\n",
              "       [ 859,  321,  850,  340,  325]])"
            ]
          },
          "metadata": {},
          "execution_count": 5
        }
      ],
      "source": [
        "# 코드를 채우세요\n",
        "arr2[1:4,1:4]=arr3*10\n",
        "arr2"
      ]
    },
    {
      "cell_type": "markdown",
      "metadata": {
        "id": "0yYW-FNXlIzJ"
      },
      "source": [
        "#### 배열2에서 다시 가운데 9개를 추출한 후 10을 곱하되, 원본 배열(배열2)이 수정되지 않도록 연산하세요 (배열4)"
      ]
    },
    {
      "cell_type": "code",
      "execution_count": null,
      "metadata": {
        "id": "k_vtAOvblIzJ",
        "outputId": "74fddd2e-508c-442f-da0e-94b91752ea03",
        "colab": {
          "base_uri": "https://localhost:8080/"
        }
      },
      "outputs": [
        {
          "output_type": "execute_result",
          "data": {
            "text/plain": [
              "array([[7100, 6690, 6390],\n",
              "       [9850, 8140, 5060],\n",
              "       [9140, 3970, 6540]])"
            ]
          },
          "metadata": {},
          "execution_count": 6
        }
      ],
      "source": [
        "# 코드를 채우세요\n",
        "arr2[1:4,1:4]\n",
        "arr4=arr2[1:4,1:4]\n",
        "arr4"
      ]
    },
    {
      "cell_type": "code",
      "execution_count": null,
      "metadata": {
        "id": "SpgzgSTGlIzJ",
        "outputId": "f907ce5d-82b9-47e2-a86f-aa772f54c6fe",
        "colab": {
          "base_uri": "https://localhost:8080/"
        }
      },
      "outputs": [
        {
          "output_type": "execute_result",
          "data": {
            "text/plain": [
              "array([[71000, 66900, 63900],\n",
              "       [98500, 81400, 50600],\n",
              "       [91400, 39700, 65400]])"
            ]
          },
          "metadata": {},
          "execution_count": 7
        }
      ],
      "source": [
        "# 코드를 채우세요\n",
        "arr4=arr4*10\n",
        "arr4"
      ]
    },
    {
      "cell_type": "code",
      "execution_count": null,
      "metadata": {
        "id": "kEHBDjGglIzJ",
        "outputId": "150ce6e8-e3ad-4ea1-b163-091f926cb074"
      },
      "outputs": [
        {
          "data": {
            "text/plain": [
              "array([[ 103,  815,  571,  934,  599],\n",
              "       [ 945, 7100, 6690, 6390,  116],\n",
              "       [ 423, 9850, 8140, 5060,  792],\n",
              "       [ 295, 9140, 3970, 6540,   32],\n",
              "       [ 859,  321,  850,  340,  325]])"
            ]
          },
          "execution_count": 8,
          "metadata": {},
          "output_type": "execute_result"
        }
      ],
      "source": [
        "arr2"
      ]
    },
    {
      "cell_type": "markdown",
      "metadata": {
        "id": "GXAHLny_lIzJ"
      },
      "source": [
        "#### 배열2의 값 중 1000이상인 요소만 선택하여 3행 자동열의 형태로 출력하세요 (배열5)"
      ]
    },
    {
      "cell_type": "code",
      "execution_count": null,
      "metadata": {
        "id": "YfB2spl-lIzJ",
        "outputId": "bfa986f0-dd72-4b79-87c3-13e139657941",
        "colab": {
          "base_uri": "https://localhost:8080/"
        }
      },
      "outputs": [
        {
          "output_type": "execute_result",
          "data": {
            "text/plain": [
              "array([[7100, 6690, 6390],\n",
              "       [9850, 8140, 5060],\n",
              "       [9140, 3970, 6540]])"
            ]
          },
          "metadata": {},
          "execution_count": 8
        }
      ],
      "source": [
        "# 코드를 채우세요\n",
        "arr5=arr2[np.where(arr2>1000)]\n",
        "arr5.reshape(3,3)"
      ]
    },
    {
      "cell_type": "markdown",
      "metadata": {
        "id": "vv-urElwlIzK"
      },
      "source": [
        "#### 배열2의 값 중 1000 미만인 요소는 0으로, 1000이상인 요소는 1000으로 변경하여 배열6에 저장하세요"
      ]
    },
    {
      "cell_type": "code",
      "execution_count": null,
      "metadata": {
        "scrolled": false,
        "id": "Q4toJIJylIzK",
        "outputId": "4234f2b7-72d1-45fe-a73f-a5a9a71fb671",
        "colab": {
          "base_uri": "https://localhost:8080/"
        }
      },
      "outputs": [
        {
          "output_type": "execute_result",
          "data": {
            "text/plain": [
              "array([[   0,    0,    0,    0,    0],\n",
              "       [   0, 1000, 1000, 1000,    0],\n",
              "       [   0, 1000, 1000, 1000,    0],\n",
              "       [   0, 1000, 1000, 1000,    0],\n",
              "       [   0,    0,    0,    0,    0]])"
            ]
          },
          "metadata": {},
          "execution_count": 9
        }
      ],
      "source": [
        "# 코드를 채우세요\n",
        "arr6=np.where(arr2>1000,1000,0)\n",
        "arr6"
      ]
    },
    {
      "cell_type": "markdown",
      "metadata": {
        "id": "1qMoMyDrlIzK"
      },
      "source": [
        "#### 배열6을 1차원 배열로 변환 후 배열7에 저장하세요 (복사)"
      ]
    },
    {
      "cell_type": "code",
      "execution_count": null,
      "metadata": {
        "scrolled": true,
        "id": "vpmVXwGjlIzK",
        "outputId": "43e87532-9ae5-45c1-eb5a-cef14e6fa2b3",
        "colab": {
          "base_uri": "https://localhost:8080/"
        }
      },
      "outputs": [
        {
          "output_type": "execute_result",
          "data": {
            "text/plain": [
              "array([   0,    0,    0,    0,    0,    0, 1000, 1000, 1000,    0,    0,\n",
              "       1000, 1000, 1000,    0,    0, 1000, 1000, 1000,    0,    0,    0,\n",
              "          0,    0,    0])"
            ]
          },
          "metadata": {},
          "execution_count": 10
        }
      ],
      "source": [
        "arr7 = arr6.flatten()\n",
        "arr7"
      ]
    },
    {
      "cell_type": "markdown",
      "metadata": {
        "id": "q0wFGLBolIzK"
      },
      "source": [
        "#### 50~100의 값 범위를 최솟값 50, 최댓값 100인 10개 구간으로 일정하게 나누어 배열8에 저장하되 소숫점 둘째자리까지만 허용합니다"
      ]
    },
    {
      "cell_type": "code",
      "execution_count": null,
      "metadata": {
        "id": "0WODWQOBlIzK",
        "outputId": "cdf7f934-4eb2-4661-9b9f-66d9e8a61e23",
        "colab": {
          "base_uri": "https://localhost:8080/"
        }
      },
      "outputs": [
        {
          "output_type": "execute_result",
          "data": {
            "text/plain": [
              "array([ 50.  ,  55.56,  61.11,  66.67,  72.22,  77.78,  83.33,  88.89,\n",
              "        94.44, 100.  ])"
            ]
          },
          "metadata": {},
          "execution_count": 11
        }
      ],
      "source": [
        "# 코드를 채우세요\n",
        "arr8 = np.round(np.linspace(50, 100, 10), 2)\n",
        "arr8"
      ]
    },
    {
      "cell_type": "markdown",
      "metadata": {
        "id": "QSUXb3XElIzK"
      },
      "source": [
        "#### 배열 8의 값을 반올림하여 배열 9에 저장하세요"
      ]
    },
    {
      "cell_type": "code",
      "execution_count": null,
      "metadata": {
        "scrolled": true,
        "id": "JIKqpXvHlIzK",
        "outputId": "4360da8a-c0d6-4e06-e164-cebc72408c49",
        "colab": {
          "base_uri": "https://localhost:8080/"
        }
      },
      "outputs": [
        {
          "output_type": "execute_result",
          "data": {
            "text/plain": [
              "array([ 50.,  56.,  61.,  67.,  72.,  78.,  83.,  89.,  94., 100.])"
            ]
          },
          "metadata": {},
          "execution_count": 12
        }
      ],
      "source": [
        "# 코드를 채우세요 (np.round함수사용)\n",
        "arr9=np.round(arr8)\n",
        "arr9"
      ]
    }
  ],
  "metadata": {
    "kernelspec": {
      "display_name": "Python 3",
      "language": "python",
      "name": "python3"
    },
    "language_info": {
      "codemirror_mode": {
        "name": "ipython",
        "version": 3
      },
      "file_extension": ".py",
      "mimetype": "text/x-python",
      "name": "python",
      "nbconvert_exporter": "python",
      "pygments_lexer": "ipython3",
      "version": "3.7.6"
    },
    "colab": {
      "provenance": [],
      "include_colab_link": true
    }
  },
  "nbformat": 4,
  "nbformat_minor": 0
}