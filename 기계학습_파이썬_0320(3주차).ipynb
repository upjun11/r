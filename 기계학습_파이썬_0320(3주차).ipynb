{
  "nbformat": 4,
  "nbformat_minor": 0,
  "metadata": {
    "colab": {
      "provenance": [],
      "authorship_tag": "ABX9TyP+JOB1VpJfOqgg56dntfUE",
      "include_colab_link": true
    },
    "kernelspec": {
      "name": "python3",
      "display_name": "Python 3"
    },
    "language_info": {
      "name": "python"
    }
  },
  "cells": [
    {
      "cell_type": "markdown",
      "metadata": {
        "id": "view-in-github",
        "colab_type": "text"
      },
      "source": [
        "<a href=\"https://colab.research.google.com/github/upjun11/r/blob/main/%EA%B8%B0%EA%B3%84%ED%95%99%EC%8A%B5_%ED%8C%8C%EC%9D%B4%EC%8D%AC_0320(3%EC%A3%BC%EC%B0%A8).ipynb\" target=\"_parent\"><img src=\"https://colab.research.google.com/assets/colab-badge.svg\" alt=\"Open In Colab\"/></a>"
      ]
    },
    {
      "cell_type": "markdown",
      "source": [
        "# 반복문"
      ],
      "metadata": {
        "id": "-_9h_dDfZc8X"
      }
    },
    {
      "cell_type": "code",
      "execution_count": null,
      "metadata": {
        "colab": {
          "base_uri": "https://localhost:8080/"
        },
        "id": "vm0tXxsOZH20",
        "outputId": "541ff58d-08e1-4151-89a2-1a43bb7e4727"
      },
      "outputs": [
        {
          "output_type": "stream",
          "name": "stdout",
          "text": [
            "0\n",
            "1\n",
            "2\n",
            "3\n",
            "4\n",
            "5\n",
            "6\n",
            "7\n",
            "8\n",
            "9\n"
          ]
        }
      ],
      "source": [
        "for i in range(10) :\n",
        "  print(i)"
      ]
    },
    {
      "cell_type": "code",
      "source": [
        "a=[]\n",
        "for i in range (1,4):\n",
        "      a.append(i)\n",
        "      print(a)"
      ],
      "metadata": {
        "colab": {
          "base_uri": "https://localhost:8080/"
        },
        "id": "mhEoX2l0ZcHn",
        "outputId": "17cd2419-a6d6-474e-f79b-004fd63ab0c9"
      },
      "execution_count": null,
      "outputs": [
        {
          "output_type": "stream",
          "name": "stdout",
          "text": [
            "[1]\n",
            "[1, 2]\n",
            "[1, 2, 3]\n"
          ]
        }
      ]
    },
    {
      "cell_type": "code",
      "source": [
        "b=[]\n",
        "for i in range(4,7):\n",
        "         b.append(i)\n",
        "         print(b)"
      ],
      "metadata": {
        "colab": {
          "base_uri": "https://localhost:8080/"
        },
        "id": "VQZj6rZ9axhH",
        "outputId": "a63797d7-efe3-4042-fb6e-b30bb6eb1cc7"
      },
      "execution_count": null,
      "outputs": [
        {
          "output_type": "stream",
          "name": "stdout",
          "text": [
            "[4]\n",
            "[4, 5]\n",
            "[4, 5, 6]\n"
          ]
        }
      ]
    },
    {
      "cell_type": "code",
      "source": [
        "c=[]\n",
        "for i in range(3,6):\n",
        "       c.append(i)\n",
        "       print(c)"
      ],
      "metadata": {
        "colab": {
          "base_uri": "https://localhost:8080/"
        },
        "id": "hb0fNtPrbMPt",
        "outputId": "7f71d8e7-65c7-4d00-df31-99ac05e246d2"
      },
      "execution_count": null,
      "outputs": [
        {
          "output_type": "stream",
          "name": "stdout",
          "text": [
            "[3]\n",
            "[3, 4]\n",
            "[3, 4, 5]\n"
          ]
        }
      ]
    },
    {
      "cell_type": "code",
      "source": [
        "##합집합\n",
        "U1 = a+b\n",
        "U1"
      ],
      "metadata": {
        "colab": {
          "base_uri": "https://localhost:8080/"
        },
        "id": "DaTtPGAjbbKt",
        "outputId": "83b8270a-6543-467a-e121-5d489d0ad04e"
      },
      "execution_count": null,
      "outputs": [
        {
          "output_type": "execute_result",
          "data": {
            "text/plain": [
              "[1, 2, 3, 4, 5, 6]"
            ]
          },
          "metadata": {},
          "execution_count": 13
        }
      ]
    },
    {
      "cell_type": "code",
      "source": [
        "U2 = a+c\n",
        "U2"
      ],
      "metadata": {
        "colab": {
          "base_uri": "https://localhost:8080/"
        },
        "id": "KtG0y4vjbjcF",
        "outputId": "e439576d-f184-4b96-a0fb-24974b3f1437"
      },
      "execution_count": null,
      "outputs": [
        {
          "output_type": "execute_result",
          "data": {
            "text/plain": [
              "[1, 2, 3, 3, 4, 5]"
            ]
          },
          "metadata": {},
          "execution_count": 15
        }
      ]
    },
    {
      "cell_type": "code",
      "source": [
        "a= [1,2,3]\n",
        "b= [3,4,5]\n",
        "\n",
        "for i in b:\n",
        "  if i in a:\n",
        "   b.remove(i) \n",
        "print(a+b)   "
      ],
      "metadata": {
        "colab": {
          "base_uri": "https://localhost:8080/"
        },
        "id": "2BYqHyOPbo6N",
        "outputId": "1451d566-7b49-42bc-b649-215fe5caa95a"
      },
      "execution_count": null,
      "outputs": [
        {
          "output_type": "stream",
          "name": "stdout",
          "text": [
            "[1, 2, 3, 4, 5]\n"
          ]
        }
      ]
    },
    {
      "cell_type": "code",
      "source": [
        "a=[1,2,3]\n",
        "b=[2,3,4,5]\n",
        "\n",
        "for i in b: #b의 원소를 더한다\n",
        "  print(i)\n",
        "  if i not in a: #만약 b에서 고른 원소가 없으면\n",
        "    a.append(i) # a에 없는 원소를  a에 더한다\n",
        "\n",
        "print(a)"
      ],
      "metadata": {
        "colab": {
          "base_uri": "https://localhost:8080/"
        },
        "id": "B_urpjS1fLwu",
        "outputId": "1969e276-8b1e-4cfa-f047-bf74888c0d64"
      },
      "execution_count": null,
      "outputs": [
        {
          "output_type": "stream",
          "name": "stdout",
          "text": [
            "2\n",
            "3\n",
            "4\n",
            "5\n",
            "[1, 2, 3, 4, 5]\n"
          ]
        }
      ]
    },
    {
      "cell_type": "code",
      "source": [
        "##a와 b의 차집합\n",
        "#a에만 있는 원소\n",
        "\n",
        "a= [1,2,3] \n",
        "b= [3,4,5]\n",
        "\n",
        "for i in b: #b의 원소를 골라\n",
        "  if i in a: #a의 원소와 겹치면\n",
        "    a.remove(i) #겹친 원소를 지운다\n",
        "\n",
        "print(a) #b와 겹쳐진 원소가 없는 a가 출력된다"
      ],
      "metadata": {
        "colab": {
          "base_uri": "https://localhost:8080/"
        },
        "id": "ae7v8bt1gw3r",
        "outputId": "4cbbfe70-bc58-46fa-f455-f46beb869a31"
      },
      "execution_count": null,
      "outputs": [
        {
          "output_type": "stream",
          "name": "stdout",
          "text": [
            "[1, 2]\n"
          ]
        }
      ]
    },
    {
      "cell_type": "markdown",
      "source": [
        "# While문\n",
        "* 조건에 맞다면 반복문 안의 내용을 계속한다.\n",
        "> while(조건문) : (들여쓰기) 내용\n",
        "- 조건에 쓰이는 변수의 변화와 초기화가 필요하다"
      ],
      "metadata": {
        "id": "doo4z0yplg9A"
      }
    },
    {
      "cell_type": "markdown",
      "source": [],
      "metadata": {
        "id": "14i9AwA9phcP"
      }
    },
    {
      "cell_type": "code",
      "source": [
        "num=1\n",
        "while num<10:\n",
        "     print(num)\n",
        "     num+=1"
      ],
      "metadata": {
        "colab": {
          "base_uri": "https://localhost:8080/"
        },
        "id": "N7d5Meclh-nT",
        "outputId": "291873d1-1096-409f-ff31-92941b648323"
      },
      "execution_count": null,
      "outputs": [
        {
          "output_type": "stream",
          "name": "stdout",
          "text": [
            "1\n",
            "2\n",
            "3\n",
            "4\n",
            "5\n",
            "6\n",
            "7\n",
            "8\n",
            "9\n"
          ]
        }
      ]
    },
    {
      "cell_type": "code",
      "source": [
        "#while 문으로 구구단출력\n",
        "\n",
        "i = 1 #초기값 지정\n",
        "j = 1\n",
        "\n",
        "while i<10 : #단의 반복\n",
        " while j<10 : #단 안에서의 곱셈반복\n",
        "  print(\"{} X {} = {}\" .format(i,j,i*j)) #구구단 내용 출력\n",
        "  j+=1 #반복 조건의 변수 변화\n",
        " i+=1 #반복 조건의 변수변화\n",
        " j = 1 #안쪽의 while 에 사용되는 변수 초기화\n",
        " print(\"\\n\") #단 사이의 구분을 위한 줄넘김\n"
      ],
      "metadata": {
        "id": "lhodIrz6lLRY"
      },
      "execution_count": null,
      "outputs": []
    },
    {
      "cell_type": "code",
      "source": [
        "#로또 번호 6개 출력\n",
        "import random\n",
        "\n",
        "lotto_list = []\n",
        "\n",
        "while len(lotto_list) < 6:\n",
        "  lotto_list.append(random.randrange(1,47))\n",
        "\n",
        "print(lotto_list)"
      ],
      "metadata": {
        "colab": {
          "base_uri": "https://localhost:8080/"
        },
        "id": "D_nYp6A5rw0H",
        "outputId": "0d793155-db7e-48f7-8202-dde8921ce921"
      },
      "execution_count": null,
      "outputs": [
        {
          "output_type": "stream",
          "name": "stdout",
          "text": [
            "[39, 42, 11, 18, 24, 6]\n"
          ]
        }
      ]
    },
    {
      "cell_type": "code",
      "source": [
        "#중복되지않은 로또번호 6개 출력\n",
        "\n",
        "num_range = list(range(1,47))\n",
        "random.shuffle(num_range)\n",
        "#print(num_range)\n",
        "\n",
        "lotto_list=[]\n",
        "i = 0\n",
        "\n",
        "while len(lotto_list)<6:\n",
        "  lotto_list.append(num_range[i])\n",
        "  i +=1\n",
        "\n",
        "print(lotto_list)"
      ],
      "metadata": {
        "colab": {
          "base_uri": "https://localhost:8080/"
        },
        "id": "IES92DaMtKq2",
        "outputId": "0deb4193-0dc5-43d2-ab3f-3093e0b1c477"
      },
      "execution_count": null,
      "outputs": [
        {
          "output_type": "stream",
          "name": "stdout",
          "text": [
            "[25, 35, 3, 26, 45, 2]\n"
          ]
        }
      ]
    },
    {
      "cell_type": "markdown",
      "source": [
        "# 숫자 샘플링\n",
        "1. random(): 0~1사이 float 리턴\n",
        "2. randinf(a,b): a와b사이 정수 리턴\n",
        "3. nuiform(a,b): a와 b사이 float 리턴\n",
        "4. randrange(a,b,d): a와b사이 d간격의 숫값리턴\n",
        "5. shuffle(집합): 집합의원소를 모두 섞어서 리턴\n",
        "6. sample(집합,수): 집합에서 수 만큼 추출"
      ],
      "metadata": {
        "id": "S7BT3hD7u4Rd"
      }
    },
    {
      "cell_type": "code",
      "source": [
        "##3월 20일 과제"
      ],
      "metadata": {
        "id": "IwlZhS1Wv9Aj"
      },
      "execution_count": null,
      "outputs": []
    },
    {
      "cell_type": "code",
      "source": [
        "##소수찾기\n",
        "def primenumber(x):\n",
        "    for i in range(2, x):\t# 2부터 x-1까지의 모든 숫자\n",
        "    \tif x % i == 0:\t\t# 나눠떨어지는게 하나라도 있으면 False\n",
        "        \treturn False\n",
        "    return True\t\t\t\t# 전부 나눠떨어지지 않으면 True"
      ],
      "metadata": {
        "id": "HPA52fUyvo21"
      },
      "execution_count": null,
      "outputs": []
    },
    {
      "cell_type": "code",
      "source": [
        "##약수찾기\n",
        "\n",
        "num = int(input(\"약수 찾는 프로그램:'2'이상의 양수를 입력하시오: \"))\n",
        "divisor = [num]\n",
        "for i in range(1,num):\n",
        "  if(num%i == 0):\n",
        "    divisor.append(i)   \n",
        "print(divisor)"
      ],
      "metadata": {
        "id": "a0DQxtsqn9FL",
        "colab": {
          "base_uri": "https://localhost:8080/"
        },
        "outputId": "9ed82051-f5df-4112-cd0b-6104be758cd4"
      },
      "execution_count": 1,
      "outputs": [
        {
          "output_type": "stream",
          "name": "stdout",
          "text": [
            "약수 찾는 프로그램:'2'이상의 양수를 입력하시오: 123\n",
            "[123, 1, 3, 41]\n"
          ]
        }
      ]
    },
    {
      "cell_type": "code",
      "source": [
        "##소인수찾기\n",
        "num = int(input(\"양수를 입력하시오: \"))\n",
        "prime_factor = [num]\n",
        "for i in range(1,num):\n",
        "  if(num%i == 0):\n",
        "   prime_factor.append(i)\n",
        "print(prime_factor)\n",
        "       "
      ],
      "metadata": {
        "id": "VSWW6voEn9zj",
        "colab": {
          "base_uri": "https://localhost:8080/"
        },
        "outputId": "63c3ef55-8535-4dd7-f436-6886a061021f"
      },
      "execution_count": 4,
      "outputs": [
        {
          "output_type": "stream",
          "name": "stdout",
          "text": [
            "양수를 입력하시오: 66\n",
            "[66, 1, 2, 3, 6, 11, 22, 33]\n"
          ]
        }
      ]
    },
    {
      "cell_type": "code",
      "source": [
        "p_factor=[]\n",
        "a = int(input())\n",
        "for i in range(2,a):\n",
        "   while(a % i == 0):\n",
        "     p_factor.append(i)\n",
        "     a = a/i\n",
        "print(p_factor)     "
      ],
      "metadata": {
        "colab": {
          "base_uri": "https://localhost:8080/"
        },
        "id": "p1HFiHRJp9mx",
        "outputId": "5e11d6c5-b348-4fb6-8d67-1fb74fd13c16"
      },
      "execution_count": null,
      "outputs": [
        {
          "output_type": "stream",
          "name": "stdout",
          "text": [
            "25\n",
            "[5, 5]\n"
          ]
        }
      ]
    },
    {
      "cell_type": "code",
      "source": [
        "##최대공약수num1 = int(input(\"양수를 입력하시오: \"))\n",
        "a = int(input(\"첫 번째 숫자를 입력하세요: \"))\n",
        "b = int(input(\"두 번째 숫자를 입력하세요: \"))\n",
        "\n",
        "factors_a = []\n",
        "factors_b = []\n",
        "\n",
        "# a의 약수 구하기\n",
        "i = 1\n",
        "while i <= a:\n",
        "    if a % i == 0:\n",
        "        factors_a.append(i)\n",
        "    i += 1\n",
        "\n",
        "# b의 약수 구하기\n",
        "i = 1\n",
        "while i <= b:\n",
        "    if b % i == 0:\n",
        "        factors_b.append(i)\n",
        "    i += 1\n",
        "\n",
        "# 공통된 약수 찾기\n",
        "common_factors = []\n",
        "for factor in factors_a:\n",
        "    if factor in factors_b:\n",
        "        common_factors.append(factor)\n",
        "\n",
        "# 최대공약수 찾기\n",
        "gcd = 1\n",
        "for factor in common_factors:\n",
        "    if factor > gcd:\n",
        "        gcd = factor\n",
        "\n",
        "print(a, \"와\", b, \"의 최대공약수는\", gcd, \"입니다.\")"
      ],
      "metadata": {
        "id": "mAxWSBQmn97G",
        "colab": {
          "base_uri": "https://localhost:8080/"
        },
        "outputId": "d8bc050b-f4d3-4e02-db7b-dc6461643b37"
      },
      "execution_count": 10,
      "outputs": [
        {
          "output_type": "stream",
          "name": "stdout",
          "text": [
            "첫 번째 숫자를 입력하세요: 2\n",
            "두 번째 숫자를 입력하세요: 1\n",
            "2 와 1 의 최대공약수는 1 입니다.\n"
          ]
        }
      ]
    },
    {
      "cell_type": "code",
      "source": [],
      "metadata": {
        "id": "FjPpTKeBvYVw"
      },
      "execution_count": null,
      "outputs": []
    },
    {
      "cell_type": "code",
      "source": [],
      "metadata": {
        "id": "hLC6d-SgvYey"
      },
      "execution_count": null,
      "outputs": []
    },
    {
      "cell_type": "code",
      "source": [
        "##최소공배수\n",
        "def gcd(x, v):\n",
        "    while y != 0:\n",
        "        temp = y\n",
        "        y = x % y\n",
        "        x = temp\n",
        "    return x\n",
        "\n",
        "def lcm(x, y):\n",
        "    return x * y // gcd(x, y)\n"
      ],
      "metadata": {
        "id": "3yZ_L8Rsn9_q"
      },
      "execution_count": 12,
      "outputs": []
    },
    {
      "cell_type": "code",
      "source": [],
      "metadata": {
        "id": "S6dW60Y1vXYY"
      },
      "execution_count": null,
      "outputs": []
    }
  ]
}